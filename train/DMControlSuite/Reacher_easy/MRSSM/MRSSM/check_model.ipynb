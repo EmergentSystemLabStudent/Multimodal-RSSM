{
 "cells": [
  {
   "cell_type": "code",
   "execution_count": 1,
   "id": "dad5312d-c7a5-4be3-94c2-46e1bc4030ec",
   "metadata": {},
   "outputs": [],
   "source": [
    "%load_ext autoreload\n",
    "%autoreload 2\n",
    "\n",
    "import sys\n",
    "import os\n",
    "from pathlib import Path\n",
    "\n",
    "module_path = os.path.join(Path().resolve(), '../../../../..')
sys.path.append(module_path)
os.environ['PYTHONPATH'] = module_path\n",
    "\n",
    "import numpy as np\n",
    "from tqdm import tqdm\n",
    "\n",
    "import hydra\n",
    "from omegaconf import DictConfig, OmegaConf\n",
    "import torch"
   ]
  },
  {
   "cell_type": "code",
   "execution_count": 2,
   "id": "59f9f0da-2267-49a3-bf68-109ec77797a5",
   "metadata": {},
   "outputs": [
    {
     "data": {
      "text/plain": [
       "<torch.autograd.grad_mode.set_grad_enabled at 0x7f0f1c4de9a0>"
      ]
     },
     "execution_count": 2,
     "metadata": {},
     "output_type": "execute_result"
    }
   ],
   "source": [
    "# 勾配を計算しない\n",
    "torch.set_grad_enabled(False)"
   ]
  },
  {
   "cell_type": "code",
   "execution_count": 3,
   "id": "a66d84a2-184b-433b-b112-6e8a0d3a07f8",
   "metadata": {},
   "outputs": [],
   "source": [
    "%matplotlib inline\n",
    "# %matplotlib notebook\n",
    "# %matplotlib nbagg\n",
    "from IPython import display\n",
    "import matplotlib.pyplot as plt\n",
    "from matplotlib.animation import FuncAnimation, ArtistAnimation\n",
    "\n",
    "import numpy as np\n",
    "from tqdm import tqdm"
   ]
  },
  {
   "cell_type": "code",
   "execution_count": 51,
   "id": "3539b650-48c3-4968-9730-536e1bfc1d9e",
   "metadata": {},
   "outputs": [],
   "source": [
    "model_folder = \"results/RSSM-uniform/2022-08-14/run_0\"\n",
    "model_folder = \"results/debug/2022-08-19/run_5\"\n",
    "\n",
    "model_folder = \"results/RSSM-uniform-BatchNorm/2022-08-21/run_2\"\n",
    "\n",
    "# model_folder = \"results/RSSM-expert/2022-08-21/run_3\""
   ]
  },
  {
   "cell_type": "code",
   "execution_count": 52,
   "id": "f09605f2-a4a0-43b4-b27b-d9999546f7c5",
   "metadata": {},
   "outputs": [
    {
     "name": "stdout",
     "output_type": "stream",
     "text": [
      "                          Options\n",
      "                          main: {'experiment_name': 'RSSM-uniform-BatchNorm', 'log_dir': '/root/sharespace/sim/MultimodalRSSM/train/DMControlSuite/Reacher_easy/MRSSM/MRSSM/results/RSSM-uniform-BatchNorm/2022-08-21/run_2', 'algo': 'rssm', 'seed': 2, 'disable_cuda': False, 'device': 'cpu', 'test': False, 'test_interval': 500, 'test_episodes': 5, 'validation_interval': 10, 'checkpoint_interval': 200, 'checkpoint_experience': False, 'models': '', 'mlflow': False, 'wandb': False, 'git_hash': '0db9d90'}\n",
      "                          env: {'env_config': {'env_name': 'reacher-easy', 'horizon': 1000}, 'taskset_name': 'mujoco', 'info_names': [], 'symbolic_env': False, 'observation_shapes': {'image': [3, 64, 64]}, 'action_name': 'action', 'action_size': 2, 'action_repeat': 4, 'episodes': 1000, 'bit_depth': 5, 'noise_scale': 0.0, 'add_noise': False, 'noisy_background': False}\n",
      "                          model: {'observation_names': ['image'], 'reconstruction_names': ['image'], 'condition_names': ['action'], 'predict_reward': False, 'multimodal': False, 'multimodal_params': {'fusion_method': None, 'expert_dist': None, 'use_prior_expert': None}, 'activation_function': {'cnn': 'relu', 'dense': 'elu', 'fusion': 'relu'}, 'embedding_size': {'fusion': 1024, 'image': 1024, 'sound': 256, 'other': 128}, 'hidden_size': 200, 'belief_size': 200, 'state_size': 30, 'normalization': 'BatchNorm', 'worldmodel_LogProbLoss': False, 'overshooting_distance': 50, 'overshooting_kl_beta': 0, 'overshooting_reward_scale': 0, 'global_kl_beta': 0, 'free_nats': 3, 'kl_beta': 1, 'kl_balancing_alpha': 0.5, 'model_learning_rate': 0.001, 'actor_learning_rate': 8e-05, 'value_learning_rate': 8e-05, 'learning_rate_schedule': 0, 'adam_epsilon': 1e-07, 'grad_clip_norm': 100.0, 'planning_horizon': 2, 'discount': 0.99, 'disclam': 0.95}\n",
      "                          train: {'experience_replay': ['../../../../../dataset/DMControlSuite/Reacher-easy/demonstration_for_RSSM/uniform_demonstrations'], 'validation_data': ['../../../../../dataset/DMControlSuite/Reacher-easy/Expert_demonstration/demonstrations/optimal'], 'n_episode': None, 'experience_size': 1000000, 'n_crop': None, 'noise_scales': None, 'pca_scales': None, 'dh_base': None, 'dw_base': None, 'action_noise': 0.3, 'train_iteration': 20000, 'seed_episodes': None, 'collect_interval': None, 'batch_size': 50, 'chunk_size': 50, 'random_sampling': True, 'update_policy': False, 'use_amp': True, 'rssm': {'load': False, 'model_path': None, 'fix': False}}\n",
      "                          planner: {'optimisation_iters': 10, 'candidates': 1000, 'top_candidates': 100}\n"
     ]
    },
    {
     "name": "stderr",
     "output_type": "stream",
     "text": [
      "/tmp/ipykernel_4046169/412833029.py:3: UserWarning: \n",
      "The version_base parameter is not specified.\n",
      "Please specify a compatability version level, or None.\n",
      "Will assume defaults for version 1.1\n",
      "  with initialize(config_path=model_folder):\n"
     ]
    }
   ],
   "source": [
    "from hydra import initialize, initialize_config_module, initialize_config_dir, compose\n",
    "from omegaconf import OmegaConf\n",
    "with initialize(config_path=model_folder):\n",
    "    cfg = compose(config_name=\"hydra_config\")\n",
    "\n",
    "cfg_device = \"cuda:0\"\n",
    "cfg_device = \"cpu\"\n",
    "cfg.main.device = cfg_device\n",
    "# cfg.train.n_episode = 100\n",
    "cfg.main.wandb=False\n",
    "device = torch.device(cfg.main.device)\n",
    "print(' ' * 26 + 'Options')\n",
    "for k, v in cfg.items():\n",
    "    print(' ' * 26 + k + ': ' + str(v))"
   ]
  },
  {
   "cell_type": "code",
   "execution_count": 53,
   "id": "d28ca26a-a14f-4121-b351-fb49c7691ab7",
   "metadata": {},
   "outputs": [
    {
     "data": {
      "text/plain": [
       "{'observation_names': ['image'],\n",
       " 'reconstruction_names': ['image'],\n",
       " 'condition_names': ['action'],\n",
       " 'predict_reward': False,\n",
       " 'multimodal': False,\n",
       " 'multimodal_params': {'fusion_method': None, 'expert_dist': None, 'use_prior_expert': None},\n",
       " 'activation_function': {'cnn': 'relu', 'dense': 'elu', 'fusion': 'relu'},\n",
       " 'embedding_size': {'fusion': 1024, 'image': 1024, 'sound': 256, 'other': 128},\n",
       " 'hidden_size': 200,\n",
       " 'belief_size': 200,\n",
       " 'state_size': 30,\n",
       " 'normalization': 'BatchNorm',\n",
       " 'worldmodel_LogProbLoss': False,\n",
       " 'overshooting_distance': 50,\n",
       " 'overshooting_kl_beta': 0,\n",
       " 'overshooting_reward_scale': 0,\n",
       " 'global_kl_beta': 0,\n",
       " 'free_nats': 3,\n",
       " 'kl_beta': 1,\n",
       " 'kl_balancing_alpha': 0.5,\n",
       " 'model_learning_rate': 0.001,\n",
       " 'actor_learning_rate': 8e-05,\n",
       " 'value_learning_rate': 8e-05,\n",
       " 'learning_rate_schedule': 0,\n",
       " 'adam_epsilon': 1e-07,\n",
       " 'grad_clip_norm': 100.0,\n",
       " 'planning_horizon': 2,\n",
       " 'discount': 0.99,\n",
       " 'disclam': 0.95}"
      ]
     },
     "execution_count": 53,
     "metadata": {},
     "output_type": "execute_result"
    }
   ],
   "source": [
    "dict(cfg.model)"
   ]
  },
  {
   "cell_type": "code",
   "execution_count": 54,
   "id": "a8a13f3f-b7e0-4798-b73f-6b8a6ae5d971",
   "metadata": {},
   "outputs": [
    {
     "name": "stdout",
     "output_type": "stream",
     "text": [
      "['../../../../../dataset/DMControlSuite/Reacher-easy/demonstration_for_RSSM/uniform_demonstrations']\n"
     ]
    }
   ],
   "source": [
    "print(cfg.train.experience_replay)\n",
    "\n",
    "validation = True"
   ]
  },
  {
   "cell_type": "code",
   "execution_count": 62,
   "id": "28374560-c8d1-4904-9281-ad5eb295ccd2",
   "metadata": {},
   "outputs": [
    {
     "data": {
      "text/plain": [
       "['image']"
      ]
     },
     "execution_count": 62,
     "metadata": {},
     "output_type": "execute_result"
    }
   ],
   "source": []
  },
  {
   "cell_type": "code",
   "execution_count": null,
   "id": "7104a703-c65c-48a6-a31c-02adcd88112e",
   "metadata": {},
   "outputs": [],
   "source": []
  },
  {
   "cell_type": "code",
   "execution_count": null,
   "id": "abd187cb-e208-4692-a425-44242a2878eb",
   "metadata": {},
   "outputs": [],
   "source": []
  },
  {
   "cell_type": "markdown",
   "id": "56a96458-9e4e-457b-90cf-73157360af05",
   "metadata": {},
   "source": [
    "# Load Model, Data and States"
   ]
  },
  {
   "cell_type": "code",
   "execution_count": 55,
   "id": "7f09ebcb-540b-4aab-b2ec-f32ff317a2e1",
   "metadata": {},
   "outputs": [],
   "source": [
    "def load_dataset(cfg, cwd, experience_replay, D):\n",
    "    dataset_dir = os.path.join(cwd, experience_replay)\n",
    "    if os.path.exists(dataset_dir):    \n",
    "        print(\"load dataset from {}\".format(dataset_dir))\n",
    "        if os.path.isdir(dataset_dir):\n",
    "            D.load_dataset(dataset_dir, n_episode=cfg.train.n_episode)\n",
    "        else:\n",
    "            dataset = torch.load(dataset_dir)\n",
    "            D.convert_dataset(dataset)\n"
   ]
  },
  {
   "cell_type": "code",
   "execution_count": 56,
   "id": "bd0b70d7-a303-44c1-9ea4-a3e6735b608f",
   "metadata": {},
   "outputs": [
    {
     "name": "stdout",
     "output_type": "stream",
     "text": [
      "load dataset from ./../../../../../dataset/DMControlSuite/Reacher-easy/Expert_demonstration/demonstrations/optimal\n",
      "['./../../../../../dataset/DMControlSuite/Reacher-easy/Expert_demonstration/demonstrations/optimal/seed_2014.npy', './../../../../../dataset/DMControlSuite/Reacher-easy/Expert_demonstration/demonstrations/optimal/seed_2027.npy', './../../../../../dataset/DMControlSuite/Reacher-easy/Expert_demonstration/demonstrations/optimal/seed_2057.npy', './../../../../../dataset/DMControlSuite/Reacher-easy/Expert_demonstration/demonstrations/optimal/seed_2070.npy', './../../../../../dataset/DMControlSuite/Reacher-easy/Expert_demonstration/demonstrations/optimal/seed_2088.npy', './../../../../../dataset/DMControlSuite/Reacher-easy/Expert_demonstration/demonstrations/optimal/seed_2090.npy', './../../../../../dataset/DMControlSuite/Reacher-easy/Expert_demonstration/demonstrations/optimal/seed_2094.npy', './../../../../../dataset/DMControlSuite/Reacher-easy/Expert_demonstration/demonstrations/optimal/seed_2111.npy', './../../../../../dataset/DMControlSuite/Reacher-easy/Expert_demonstration/demonstrations/optimal/seed_2116.npy', './../../../../../dataset/DMControlSuite/Reacher-easy/Expert_demonstration/demonstrations/optimal/seed_2132.npy', './../../../../../dataset/DMControlSuite/Reacher-easy/Expert_demonstration/demonstrations/optimal/seed_2143.npy', './../../../../../dataset/DMControlSuite/Reacher-easy/Expert_demonstration/demonstrations/optimal/seed_2151.npy', './../../../../../dataset/DMControlSuite/Reacher-easy/Expert_demonstration/demonstrations/optimal/seed_2164.npy', './../../../../../dataset/DMControlSuite/Reacher-easy/Expert_demonstration/demonstrations/optimal/seed_2168.npy', './../../../../../dataset/DMControlSuite/Reacher-easy/Expert_demonstration/demonstrations/optimal/seed_2172.npy', './../../../../../dataset/DMControlSuite/Reacher-easy/Expert_demonstration/demonstrations/optimal/seed_2194.npy', './../../../../../dataset/DMControlSuite/Reacher-easy/Expert_demonstration/demonstrations/optimal/seed_2197.npy', './../../../../../dataset/DMControlSuite/Reacher-easy/Expert_demonstration/demonstrations/optimal/seed_2205.npy', './../../../../../dataset/DMControlSuite/Reacher-easy/Expert_demonstration/demonstrations/optimal/seed_2208.npy', './../../../../../dataset/DMControlSuite/Reacher-easy/Expert_demonstration/demonstrations/optimal/seed_2215.npy', './../../../../../dataset/DMControlSuite/Reacher-easy/Expert_demonstration/demonstrations/optimal/seed_2222.npy', './../../../../../dataset/DMControlSuite/Reacher-easy/Expert_demonstration/demonstrations/optimal/seed_2256.npy', './../../../../../dataset/DMControlSuite/Reacher-easy/Expert_demonstration/demonstrations/optimal/seed_2274.npy', './../../../../../dataset/DMControlSuite/Reacher-easy/Expert_demonstration/demonstrations/optimal/seed_2281.npy', './../../../../../dataset/DMControlSuite/Reacher-easy/Expert_demonstration/demonstrations/optimal/seed_2289.npy', './../../../../../dataset/DMControlSuite/Reacher-easy/Expert_demonstration/demonstrations/optimal/seed_2300.npy', './../../../../../dataset/DMControlSuite/Reacher-easy/Expert_demonstration/demonstrations/optimal/seed_2303.npy', './../../../../../dataset/DMControlSuite/Reacher-easy/Expert_demonstration/demonstrations/optimal/seed_2315.npy', './../../../../../dataset/DMControlSuite/Reacher-easy/Expert_demonstration/demonstrations/optimal/seed_2331.npy', './../../../../../dataset/DMControlSuite/Reacher-easy/Expert_demonstration/demonstrations/optimal/seed_2374.npy', './../../../../../dataset/DMControlSuite/Reacher-easy/Expert_demonstration/demonstrations/optimal/seed_2399.npy', './../../../../../dataset/DMControlSuite/Reacher-easy/Expert_demonstration/demonstrations/optimal/seed_2400.npy', './../../../../../dataset/DMControlSuite/Reacher-easy/Expert_demonstration/demonstrations/optimal/seed_2421.npy', './../../../../../dataset/DMControlSuite/Reacher-easy/Expert_demonstration/demonstrations/optimal/seed_2430.npy', './../../../../../dataset/DMControlSuite/Reacher-easy/Expert_demonstration/demonstrations/optimal/seed_2436.npy', './../../../../../dataset/DMControlSuite/Reacher-easy/Expert_demonstration/demonstrations/optimal/seed_2444.npy', './../../../../../dataset/DMControlSuite/Reacher-easy/Expert_demonstration/demonstrations/optimal/seed_2450.npy', './../../../../../dataset/DMControlSuite/Reacher-easy/Expert_demonstration/demonstrations/optimal/seed_2456.npy', './../../../../../dataset/DMControlSuite/Reacher-easy/Expert_demonstration/demonstrations/optimal/seed_2515.npy', './../../../../../dataset/DMControlSuite/Reacher-easy/Expert_demonstration/demonstrations/optimal/seed_2558.npy', './../../../../../dataset/DMControlSuite/Reacher-easy/Expert_demonstration/demonstrations/optimal/seed_2563.npy', './../../../../../dataset/DMControlSuite/Reacher-easy/Expert_demonstration/demonstrations/optimal/seed_2572.npy', './../../../../../dataset/DMControlSuite/Reacher-easy/Expert_demonstration/demonstrations/optimal/seed_2585.npy', './../../../../../dataset/DMControlSuite/Reacher-easy/Expert_demonstration/demonstrations/optimal/seed_2597.npy', './../../../../../dataset/DMControlSuite/Reacher-easy/Expert_demonstration/demonstrations/optimal/seed_2609.npy', './../../../../../dataset/DMControlSuite/Reacher-easy/Expert_demonstration/demonstrations/optimal/seed_2611.npy', './../../../../../dataset/DMControlSuite/Reacher-easy/Expert_demonstration/demonstrations/optimal/seed_2612.npy', './../../../../../dataset/DMControlSuite/Reacher-easy/Expert_demonstration/demonstrations/optimal/seed_2617.npy', './../../../../../dataset/DMControlSuite/Reacher-easy/Expert_demonstration/demonstrations/optimal/seed_2627.npy', './../../../../../dataset/DMControlSuite/Reacher-easy/Expert_demonstration/demonstrations/optimal/seed_2638.npy', './../../../../../dataset/DMControlSuite/Reacher-easy/Expert_demonstration/demonstrations/optimal/seed_2662.npy', './../../../../../dataset/DMControlSuite/Reacher-easy/Expert_demonstration/demonstrations/optimal/seed_2676.npy', './../../../../../dataset/DMControlSuite/Reacher-easy/Expert_demonstration/demonstrations/optimal/seed_2702.npy', './../../../../../dataset/DMControlSuite/Reacher-easy/Expert_demonstration/demonstrations/optimal/seed_2725.npy', './../../../../../dataset/DMControlSuite/Reacher-easy/Expert_demonstration/demonstrations/optimal/seed_2743.npy', './../../../../../dataset/DMControlSuite/Reacher-easy/Expert_demonstration/demonstrations/optimal/seed_2764.npy', './../../../../../dataset/DMControlSuite/Reacher-easy/Expert_demonstration/demonstrations/optimal/seed_2773.npy', './../../../../../dataset/DMControlSuite/Reacher-easy/Expert_demonstration/demonstrations/optimal/seed_2777.npy', './../../../../../dataset/DMControlSuite/Reacher-easy/Expert_demonstration/demonstrations/optimal/seed_2779.npy', './../../../../../dataset/DMControlSuite/Reacher-easy/Expert_demonstration/demonstrations/optimal/seed_2811.npy', './../../../../../dataset/DMControlSuite/Reacher-easy/Expert_demonstration/demonstrations/optimal/seed_2817.npy', './../../../../../dataset/DMControlSuite/Reacher-easy/Expert_demonstration/demonstrations/optimal/seed_2822.npy', './../../../../../dataset/DMControlSuite/Reacher-easy/Expert_demonstration/demonstrations/optimal/seed_2842.npy', './../../../../../dataset/DMControlSuite/Reacher-easy/Expert_demonstration/demonstrations/optimal/seed_2843.npy', './../../../../../dataset/DMControlSuite/Reacher-easy/Expert_demonstration/demonstrations/optimal/seed_2855.npy', './../../../../../dataset/DMControlSuite/Reacher-easy/Expert_demonstration/demonstrations/optimal/seed_2864.npy', './../../../../../dataset/DMControlSuite/Reacher-easy/Expert_demonstration/demonstrations/optimal/seed_2889.npy', './../../../../../dataset/DMControlSuite/Reacher-easy/Expert_demonstration/demonstrations/optimal/seed_2913.npy', './../../../../../dataset/DMControlSuite/Reacher-easy/Expert_demonstration/demonstrations/optimal/seed_2924.npy', './../../../../../dataset/DMControlSuite/Reacher-easy/Expert_demonstration/demonstrations/optimal/seed_2936.npy', './../../../../../dataset/DMControlSuite/Reacher-easy/Expert_demonstration/demonstrations/optimal/seed_2978.npy', './../../../../../dataset/DMControlSuite/Reacher-easy/Expert_demonstration/demonstrations/optimal/seed_2999.npy', './../../../../../dataset/DMControlSuite/Reacher-easy/Expert_demonstration/demonstrations/optimal/seed_2017.npy', './../../../../../dataset/DMControlSuite/Reacher-easy/Expert_demonstration/demonstrations/optimal/seed_2167.npy', './../../../../../dataset/DMControlSuite/Reacher-easy/Expert_demonstration/demonstrations/optimal/seed_2025.npy', './../../../../../dataset/DMControlSuite/Reacher-easy/Expert_demonstration/demonstrations/optimal/seed_2135.npy', './../../../../../dataset/DMControlSuite/Reacher-easy/Expert_demonstration/demonstrations/optimal/seed_2125.npy', './../../../../../dataset/DMControlSuite/Reacher-easy/Expert_demonstration/demonstrations/optimal/seed_2013.npy', './../../../../../dataset/DMControlSuite/Reacher-easy/Expert_demonstration/demonstrations/optimal/seed_2100.npy', './../../../../../dataset/DMControlSuite/Reacher-easy/Expert_demonstration/demonstrations/optimal/seed_2124.npy', './../../../../../dataset/DMControlSuite/Reacher-easy/Expert_demonstration/demonstrations/optimal/seed_2098.npy', './../../../../../dataset/DMControlSuite/Reacher-easy/Expert_demonstration/demonstrations/optimal/seed_2155.npy', './../../../../../dataset/DMControlSuite/Reacher-easy/Expert_demonstration/demonstrations/optimal/seed_2109.npy', './../../../../../dataset/DMControlSuite/Reacher-easy/Expert_demonstration/demonstrations/optimal/seed_2097.npy', './../../../../../dataset/DMControlSuite/Reacher-easy/Expert_demonstration/demonstrations/optimal/seed_2066.npy', './../../../../../dataset/DMControlSuite/Reacher-easy/Expert_demonstration/demonstrations/optimal/seed_2120.npy', './../../../../../dataset/DMControlSuite/Reacher-easy/Expert_demonstration/demonstrations/optimal/seed_2112.npy', './../../../../../dataset/DMControlSuite/Reacher-easy/Expert_demonstration/demonstrations/optimal/seed_2038.npy', './../../../../../dataset/DMControlSuite/Reacher-easy/Expert_demonstration/demonstrations/optimal/seed_2199.npy', './../../../../../dataset/DMControlSuite/Reacher-easy/Expert_demonstration/demonstrations/optimal/seed_2255.npy', './../../../../../dataset/DMControlSuite/Reacher-easy/Expert_demonstration/demonstrations/optimal/seed_2270.npy', './../../../../../dataset/DMControlSuite/Reacher-easy/Expert_demonstration/demonstrations/optimal/seed_2311.npy', './../../../../../dataset/DMControlSuite/Reacher-easy/Expert_demonstration/demonstrations/optimal/seed_2312.npy', './../../../../../dataset/DMControlSuite/Reacher-easy/Expert_demonstration/demonstrations/optimal/seed_2351.npy', './../../../../../dataset/DMControlSuite/Reacher-easy/Expert_demonstration/demonstrations/optimal/seed_2368.npy', './../../../../../dataset/DMControlSuite/Reacher-easy/Expert_demonstration/demonstrations/optimal/seed_2377.npy', './../../../../../dataset/DMControlSuite/Reacher-easy/Expert_demonstration/demonstrations/optimal/seed_2418.npy', './../../../../../dataset/DMControlSuite/Reacher-easy/Expert_demonstration/demonstrations/optimal/seed_2442.npy', './../../../../../dataset/DMControlSuite/Reacher-easy/Expert_demonstration/demonstrations/optimal/seed_2445.npy', './../../../../../dataset/DMControlSuite/Reacher-easy/Expert_demonstration/demonstrations/optimal/seed_2461.npy', './../../../../../dataset/DMControlSuite/Reacher-easy/Expert_demonstration/demonstrations/optimal/seed_2469.npy', './../../../../../dataset/DMControlSuite/Reacher-easy/Expert_demonstration/demonstrations/optimal/seed_2482.npy', './../../../../../dataset/DMControlSuite/Reacher-easy/Expert_demonstration/demonstrations/optimal/seed_2486.npy', './../../../../../dataset/DMControlSuite/Reacher-easy/Expert_demonstration/demonstrations/optimal/seed_2533.npy', './../../../../../dataset/DMControlSuite/Reacher-easy/Expert_demonstration/demonstrations/optimal/seed_2547.npy', './../../../../../dataset/DMControlSuite/Reacher-easy/Expert_demonstration/demonstrations/optimal/seed_2553.npy', './../../../../../dataset/DMControlSuite/Reacher-easy/Expert_demonstration/demonstrations/optimal/seed_2590.npy', './../../../../../dataset/DMControlSuite/Reacher-easy/Expert_demonstration/demonstrations/optimal/seed_2613.npy', './../../../../../dataset/DMControlSuite/Reacher-easy/Expert_demonstration/demonstrations/optimal/seed_2614.npy', './../../../../../dataset/DMControlSuite/Reacher-easy/Expert_demonstration/demonstrations/optimal/seed_2623.npy', './../../../../../dataset/DMControlSuite/Reacher-easy/Expert_demonstration/demonstrations/optimal/seed_2640.npy', './../../../../../dataset/DMControlSuite/Reacher-easy/Expert_demonstration/demonstrations/optimal/seed_2661.npy', './../../../../../dataset/DMControlSuite/Reacher-easy/Expert_demonstration/demonstrations/optimal/seed_2689.npy', './../../../../../dataset/DMControlSuite/Reacher-easy/Expert_demonstration/demonstrations/optimal/seed_2699.npy', './../../../../../dataset/DMControlSuite/Reacher-easy/Expert_demonstration/demonstrations/optimal/seed_2721.npy', './../../../../../dataset/DMControlSuite/Reacher-easy/Expert_demonstration/demonstrations/optimal/seed_2722.npy', './../../../../../dataset/DMControlSuite/Reacher-easy/Expert_demonstration/demonstrations/optimal/seed_2726.npy', './../../../../../dataset/DMControlSuite/Reacher-easy/Expert_demonstration/demonstrations/optimal/seed_2742.npy', './../../../../../dataset/DMControlSuite/Reacher-easy/Expert_demonstration/demonstrations/optimal/seed_2749.npy', './../../../../../dataset/DMControlSuite/Reacher-easy/Expert_demonstration/demonstrations/optimal/seed_2768.npy', './../../../../../dataset/DMControlSuite/Reacher-easy/Expert_demonstration/demonstrations/optimal/seed_2803.npy', './../../../../../dataset/DMControlSuite/Reacher-easy/Expert_demonstration/demonstrations/optimal/seed_2835.npy', './../../../../../dataset/DMControlSuite/Reacher-easy/Expert_demonstration/demonstrations/optimal/seed_2841.npy', './../../../../../dataset/DMControlSuite/Reacher-easy/Expert_demonstration/demonstrations/optimal/seed_2849.npy', './../../../../../dataset/DMControlSuite/Reacher-easy/Expert_demonstration/demonstrations/optimal/seed_2882.npy', './../../../../../dataset/DMControlSuite/Reacher-easy/Expert_demonstration/demonstrations/optimal/seed_2901.npy', './../../../../../dataset/DMControlSuite/Reacher-easy/Expert_demonstration/demonstrations/optimal/seed_2930.npy', './../../../../../dataset/DMControlSuite/Reacher-easy/Expert_demonstration/demonstrations/optimal/seed_2968.npy', './../../../../../dataset/DMControlSuite/Reacher-easy/Expert_demonstration/demonstrations/optimal/seed_2969.npy', './../../../../../dataset/DMControlSuite/Reacher-easy/Expert_demonstration/demonstrations/optimal/seed_2979.npy', './../../../../../dataset/DMControlSuite/Reacher-easy/Expert_demonstration/demonstrations/optimal/seed_2128.npy', './../../../../../dataset/DMControlSuite/Reacher-easy/Expert_demonstration/demonstrations/optimal/seed_2295.npy', './../../../../../dataset/DMControlSuite/Reacher-easy/Expert_demonstration/demonstrations/optimal/seed_2229.npy', './../../../../../dataset/DMControlSuite/Reacher-easy/Expert_demonstration/demonstrations/optimal/seed_2008.npy', './../../../../../dataset/DMControlSuite/Reacher-easy/Expert_demonstration/demonstrations/optimal/seed_2218.npy', './../../../../../dataset/DMControlSuite/Reacher-easy/Expert_demonstration/demonstrations/optimal/seed_2174.npy', './../../../../../dataset/DMControlSuite/Reacher-easy/Expert_demonstration/demonstrations/optimal/seed_2042.npy', './../../../../../dataset/DMControlSuite/Reacher-easy/Expert_demonstration/demonstrations/optimal/seed_2176.npy', './../../../../../dataset/DMControlSuite/Reacher-easy/Expert_demonstration/demonstrations/optimal/seed_2213.npy', './../../../../../dataset/DMControlSuite/Reacher-easy/Expert_demonstration/demonstrations/optimal/seed_2053.npy', './../../../../../dataset/DMControlSuite/Reacher-easy/Expert_demonstration/demonstrations/optimal/seed_2142.npy', './../../../../../dataset/DMControlSuite/Reacher-easy/Expert_demonstration/demonstrations/optimal/seed_2195.npy', './../../../../../dataset/DMControlSuite/Reacher-easy/Expert_demonstration/demonstrations/optimal/seed_2157.npy', './../../../../../dataset/DMControlSuite/Reacher-easy/Expert_demonstration/demonstrations/optimal/seed_2074.npy', './../../../../../dataset/DMControlSuite/Reacher-easy/Expert_demonstration/demonstrations/optimal/seed_2059.npy', './../../../../../dataset/DMControlSuite/Reacher-easy/Expert_demonstration/demonstrations/optimal/seed_2252.npy', './../../../../../dataset/DMControlSuite/Reacher-easy/Expert_demonstration/demonstrations/optimal/seed_2085.npy', './../../../../../dataset/DMControlSuite/Reacher-easy/Expert_demonstration/demonstrations/optimal/seed_2219.npy', './../../../../../dataset/DMControlSuite/Reacher-easy/Expert_demonstration/demonstrations/optimal/seed_2107.npy', './../../../../../dataset/DMControlSuite/Reacher-easy/Expert_demonstration/demonstrations/optimal/seed_2193.npy', './../../../../../dataset/DMControlSuite/Reacher-easy/Expert_demonstration/demonstrations/optimal/seed_2096.npy', './../../../../../dataset/DMControlSuite/Reacher-easy/Expert_demonstration/demonstrations/optimal/seed_2099.npy', './../../../../../dataset/DMControlSuite/Reacher-easy/Expert_demonstration/demonstrations/optimal/seed_2034.npy', './../../../../../dataset/DMControlSuite/Reacher-easy/Expert_demonstration/demonstrations/optimal/seed_2263.npy', './../../../../../dataset/DMControlSuite/Reacher-easy/Expert_demonstration/demonstrations/optimal/seed_2308.npy', './../../../../../dataset/DMControlSuite/Reacher-easy/Expert_demonstration/demonstrations/optimal/seed_2317.npy', './../../../../../dataset/DMControlSuite/Reacher-easy/Expert_demonstration/demonstrations/optimal/seed_2324.npy', './../../../../../dataset/DMControlSuite/Reacher-easy/Expert_demonstration/demonstrations/optimal/seed_2337.npy', './../../../../../dataset/DMControlSuite/Reacher-easy/Expert_demonstration/demonstrations/optimal/seed_2345.npy', './../../../../../dataset/DMControlSuite/Reacher-easy/Expert_demonstration/demonstrations/optimal/seed_2347.npy', './../../../../../dataset/DMControlSuite/Reacher-easy/Expert_demonstration/demonstrations/optimal/seed_2353.npy', './../../../../../dataset/DMControlSuite/Reacher-easy/Expert_demonstration/demonstrations/optimal/seed_2355.npy', './../../../../../dataset/DMControlSuite/Reacher-easy/Expert_demonstration/demonstrations/optimal/seed_2393.npy', './../../../../../dataset/DMControlSuite/Reacher-easy/Expert_demonstration/demonstrations/optimal/seed_2416.npy', './../../../../../dataset/DMControlSuite/Reacher-easy/Expert_demonstration/demonstrations/optimal/seed_2423.npy', './../../../../../dataset/DMControlSuite/Reacher-easy/Expert_demonstration/demonstrations/optimal/seed_2438.npy', './../../../../../dataset/DMControlSuite/Reacher-easy/Expert_demonstration/demonstrations/optimal/seed_2446.npy', './../../../../../dataset/DMControlSuite/Reacher-easy/Expert_demonstration/demonstrations/optimal/seed_2453.npy', './../../../../../dataset/DMControlSuite/Reacher-easy/Expert_demonstration/demonstrations/optimal/seed_2500.npy', './../../../../../dataset/DMControlSuite/Reacher-easy/Expert_demonstration/demonstrations/optimal/seed_2525.npy', './../../../../../dataset/DMControlSuite/Reacher-easy/Expert_demonstration/demonstrations/optimal/seed_2584.npy', './../../../../../dataset/DMControlSuite/Reacher-easy/Expert_demonstration/demonstrations/optimal/seed_2587.npy', './../../../../../dataset/DMControlSuite/Reacher-easy/Expert_demonstration/demonstrations/optimal/seed_2593.npy', './../../../../../dataset/DMControlSuite/Reacher-easy/Expert_demonstration/demonstrations/optimal/seed_2683.npy', './../../../../../dataset/DMControlSuite/Reacher-easy/Expert_demonstration/demonstrations/optimal/seed_2690.npy', './../../../../../dataset/DMControlSuite/Reacher-easy/Expert_demonstration/demonstrations/optimal/seed_2694.npy', './../../../../../dataset/DMControlSuite/Reacher-easy/Expert_demonstration/demonstrations/optimal/seed_2700.npy', './../../../../../dataset/DMControlSuite/Reacher-easy/Expert_demonstration/demonstrations/optimal/seed_2707.npy', './../../../../../dataset/DMControlSuite/Reacher-easy/Expert_demonstration/demonstrations/optimal/seed_2756.npy', './../../../../../dataset/DMControlSuite/Reacher-easy/Expert_demonstration/demonstrations/optimal/seed_2763.npy', './../../../../../dataset/DMControlSuite/Reacher-easy/Expert_demonstration/demonstrations/optimal/seed_2770.npy', './../../../../../dataset/DMControlSuite/Reacher-easy/Expert_demonstration/demonstrations/optimal/seed_2808.npy', './../../../../../dataset/DMControlSuite/Reacher-easy/Expert_demonstration/demonstrations/optimal/seed_2919.npy', './../../../../../dataset/DMControlSuite/Reacher-easy/Expert_demonstration/demonstrations/optimal/seed_2949.npy', './../../../../../dataset/DMControlSuite/Reacher-easy/Expert_demonstration/demonstrations/optimal/seed_2958.npy', './../../../../../dataset/DMControlSuite/Reacher-easy/Expert_demonstration/demonstrations/optimal/seed_2970.npy', './../../../../../dataset/DMControlSuite/Reacher-easy/Expert_demonstration/demonstrations/optimal/seed_2992.npy', './../../../../../dataset/DMControlSuite/Reacher-easy/Expert_demonstration/demonstrations/optimal/seed_2361.npy', './../../../../../dataset/DMControlSuite/Reacher-easy/Expert_demonstration/demonstrations/optimal/seed_2123.npy', './../../../../../dataset/DMControlSuite/Reacher-easy/Expert_demonstration/demonstrations/optimal/seed_2118.npy', './../../../../../dataset/DMControlSuite/Reacher-easy/Expert_demonstration/demonstrations/optimal/seed_2007.npy', './../../../../../dataset/DMControlSuite/Reacher-easy/Expert_demonstration/demonstrations/optimal/seed_2165.npy', './../../../../../dataset/DMControlSuite/Reacher-easy/Expert_demonstration/demonstrations/optimal/seed_2154.npy', './../../../../../dataset/DMControlSuite/Reacher-easy/Expert_demonstration/demonstrations/optimal/seed_2030.npy', './../../../../../dataset/DMControlSuite/Reacher-easy/Expert_demonstration/demonstrations/optimal/seed_2105.npy', './../../../../../dataset/DMControlSuite/Reacher-easy/Expert_demonstration/demonstrations/optimal/seed_2313.npy', './../../../../../dataset/DMControlSuite/Reacher-easy/Expert_demonstration/demonstrations/optimal/seed_2062.npy', './../../../../../dataset/DMControlSuite/Reacher-easy/Expert_demonstration/demonstrations/optimal/seed_2185.npy', './../../../../../dataset/DMControlSuite/Reacher-easy/Expert_demonstration/demonstrations/optimal/seed_2178.npy', './../../../../../dataset/DMControlSuite/Reacher-easy/Expert_demonstration/demonstrations/optimal/seed_2011.npy', './../../../../../dataset/DMControlSuite/Reacher-easy/Expert_demonstration/demonstrations/optimal/seed_2075.npy', './../../../../../dataset/DMControlSuite/Reacher-easy/Expert_demonstration/demonstrations/optimal/seed_2203.npy', './../../../../../dataset/DMControlSuite/Reacher-easy/Expert_demonstration/demonstrations/optimal/seed_2050.npy', './../../../../../dataset/DMControlSuite/Reacher-easy/Expert_demonstration/demonstrations/optimal/seed_2307.npy', './../../../../../dataset/DMControlSuite/Reacher-easy/Expert_demonstration/demonstrations/optimal/seed_2245.npy', './../../../../../dataset/DMControlSuite/Reacher-easy/Expert_demonstration/demonstrations/optimal/seed_2046.npy', './../../../../../dataset/DMControlSuite/Reacher-easy/Expert_demonstration/demonstrations/optimal/seed_2041.npy', './../../../../../dataset/DMControlSuite/Reacher-easy/Expert_demonstration/demonstrations/optimal/seed_2110.npy', './../../../../../dataset/DMControlSuite/Reacher-easy/Expert_demonstration/demonstrations/optimal/seed_2412.npy', './../../../../../dataset/DMControlSuite/Reacher-easy/Expert_demonstration/demonstrations/optimal/seed_2244.npy', './../../../../../dataset/DMControlSuite/Reacher-easy/Expert_demonstration/demonstrations/optimal/seed_2087.npy', './../../../../../dataset/DMControlSuite/Reacher-easy/Expert_demonstration/demonstrations/optimal/seed_2129.npy', './../../../../../dataset/DMControlSuite/Reacher-easy/Expert_demonstration/demonstrations/optimal/seed_2408.npy', './../../../../../dataset/DMControlSuite/Reacher-easy/Expert_demonstration/demonstrations/optimal/seed_2192.npy', './../../../../../dataset/DMControlSuite/Reacher-easy/Expert_demonstration/demonstrations/optimal/seed_2102.npy', './../../../../../dataset/DMControlSuite/Reacher-easy/Expert_demonstration/demonstrations/optimal/seed_2367.npy', './../../../../../dataset/DMControlSuite/Reacher-easy/Expert_demonstration/demonstrations/optimal/seed_2333.npy', './../../../../../dataset/DMControlSuite/Reacher-easy/Expert_demonstration/demonstrations/optimal/seed_2439.npy', './../../../../../dataset/DMControlSuite/Reacher-easy/Expert_demonstration/demonstrations/optimal/seed_2451.npy', './../../../../../dataset/DMControlSuite/Reacher-easy/Expert_demonstration/demonstrations/optimal/seed_2472.npy', './../../../../../dataset/DMControlSuite/Reacher-easy/Expert_demonstration/demonstrations/optimal/seed_2483.npy', './../../../../../dataset/DMControlSuite/Reacher-easy/Expert_demonstration/demonstrations/optimal/seed_2489.npy', './../../../../../dataset/DMControlSuite/Reacher-easy/Expert_demonstration/demonstrations/optimal/seed_2499.npy', './../../../../../dataset/DMControlSuite/Reacher-easy/Expert_demonstration/demonstrations/optimal/seed_2528.npy', './../../../../../dataset/DMControlSuite/Reacher-easy/Expert_demonstration/demonstrations/optimal/seed_2583.npy', './../../../../../dataset/DMControlSuite/Reacher-easy/Expert_demonstration/demonstrations/optimal/seed_2630.npy', './../../../../../dataset/DMControlSuite/Reacher-easy/Expert_demonstration/demonstrations/optimal/seed_2633.npy', './../../../../../dataset/DMControlSuite/Reacher-easy/Expert_demonstration/demonstrations/optimal/seed_2657.npy', './../../../../../dataset/DMControlSuite/Reacher-easy/Expert_demonstration/demonstrations/optimal/seed_2660.npy', './../../../../../dataset/DMControlSuite/Reacher-easy/Expert_demonstration/demonstrations/optimal/seed_2731.npy', './../../../../../dataset/DMControlSuite/Reacher-easy/Expert_demonstration/demonstrations/optimal/seed_2748.npy', './../../../../../dataset/DMControlSuite/Reacher-easy/Expert_demonstration/demonstrations/optimal/seed_2765.npy', './../../../../../dataset/DMControlSuite/Reacher-easy/Expert_demonstration/demonstrations/optimal/seed_2774.npy', './../../../../../dataset/DMControlSuite/Reacher-easy/Expert_demonstration/demonstrations/optimal/seed_2775.npy', './../../../../../dataset/DMControlSuite/Reacher-easy/Expert_demonstration/demonstrations/optimal/seed_2794.npy', './../../../../../dataset/DMControlSuite/Reacher-easy/Expert_demonstration/demonstrations/optimal/seed_2800.npy', './../../../../../dataset/DMControlSuite/Reacher-easy/Expert_demonstration/demonstrations/optimal/seed_2830.npy', './../../../../../dataset/DMControlSuite/Reacher-easy/Expert_demonstration/demonstrations/optimal/seed_2834.npy', './../../../../../dataset/DMControlSuite/Reacher-easy/Expert_demonstration/demonstrations/optimal/seed_2858.npy', './../../../../../dataset/DMControlSuite/Reacher-easy/Expert_demonstration/demonstrations/optimal/seed_2887.npy', './../../../../../dataset/DMControlSuite/Reacher-easy/Expert_demonstration/demonstrations/optimal/seed_2888.npy', './../../../../../dataset/DMControlSuite/Reacher-easy/Expert_demonstration/demonstrations/optimal/seed_2925.npy', './../../../../../dataset/DMControlSuite/Reacher-easy/Expert_demonstration/demonstrations/optimal/seed_2952.npy', './../../../../../dataset/DMControlSuite/Reacher-easy/Expert_demonstration/demonstrations/optimal/seed_2967.npy', './../../../../../dataset/DMControlSuite/Reacher-easy/Expert_demonstration/demonstrations/optimal/seed_2994.npy', './../../../../../dataset/DMControlSuite/Reacher-easy/Expert_demonstration/demonstrations/optimal/seed_2175.npy', './../../../../../dataset/DMControlSuite/Reacher-easy/Expert_demonstration/demonstrations/optimal/seed_2249.npy', './../../../../../dataset/DMControlSuite/Reacher-easy/Expert_demonstration/demonstrations/optimal/seed_2384.npy', './../../../../../dataset/DMControlSuite/Reacher-easy/Expert_demonstration/demonstrations/optimal/seed_2044.npy', './../../../../../dataset/DMControlSuite/Reacher-easy/Expert_demonstration/demonstrations/optimal/seed_2217.npy', './../../../../../dataset/DMControlSuite/Reacher-easy/Expert_demonstration/demonstrations/optimal/seed_2502.npy', './../../../../../dataset/DMControlSuite/Reacher-easy/Expert_demonstration/demonstrations/optimal/seed_2037.npy', './../../../../../dataset/DMControlSuite/Reacher-easy/Expert_demonstration/demonstrations/optimal/seed_2190.npy', './../../../../../dataset/DMControlSuite/Reacher-easy/Expert_demonstration/demonstrations/optimal/seed_2250.npy', './../../../../../dataset/DMControlSuite/Reacher-easy/Expert_demonstration/demonstrations/optimal/seed_2554.npy', './../../../../../dataset/DMControlSuite/Reacher-easy/Expert_demonstration/demonstrations/optimal/seed_2527.npy', './../../../../../dataset/DMControlSuite/Reacher-easy/Expert_demonstration/demonstrations/optimal/seed_2567.npy', './../../../../../dataset/DMControlSuite/Reacher-easy/Expert_demonstration/demonstrations/optimal/seed_2226.npy', './../../../../../dataset/DMControlSuite/Reacher-easy/Expert_demonstration/demonstrations/optimal/seed_2360.npy', './../../../../../dataset/DMControlSuite/Reacher-easy/Expert_demonstration/demonstrations/optimal/seed_2137.npy', './../../../../../dataset/DMControlSuite/Reacher-easy/Expert_demonstration/demonstrations/optimal/seed_2391.npy', './../../../../../dataset/DMControlSuite/Reacher-easy/Expert_demonstration/demonstrations/optimal/seed_2346.npy', './../../../../../dataset/DMControlSuite/Reacher-easy/Expert_demonstration/demonstrations/optimal/seed_2026.npy', './../../../../../dataset/DMControlSuite/Reacher-easy/Expert_demonstration/demonstrations/optimal/seed_2267.npy', './../../../../../dataset/DMControlSuite/Reacher-easy/Expert_demonstration/demonstrations/optimal/seed_2414.npy', './../../../../../dataset/DMControlSuite/Reacher-easy/Expert_demonstration/demonstrations/optimal/seed_2108.npy', './../../../../../dataset/DMControlSuite/Reacher-easy/Expert_demonstration/demonstrations/optimal/seed_2297.npy', './../../../../../dataset/DMControlSuite/Reacher-easy/Expert_demonstration/demonstrations/optimal/seed_2341.npy', './../../../../../dataset/DMControlSuite/Reacher-easy/Expert_demonstration/demonstrations/optimal/seed_2504.npy', './../../../../../dataset/DMControlSuite/Reacher-easy/Expert_demonstration/demonstrations/optimal/seed_2051.npy', './../../../../../dataset/DMControlSuite/Reacher-easy/Expert_demonstration/demonstrations/optimal/seed_2471.npy', './../../../../../dataset/DMControlSuite/Reacher-easy/Expert_demonstration/demonstrations/optimal/seed_2507.npy', './../../../../../dataset/DMControlSuite/Reacher-easy/Expert_demonstration/demonstrations/optimal/seed_2150.npy', './../../../../../dataset/DMControlSuite/Reacher-easy/Expert_demonstration/demonstrations/optimal/seed_2091.npy', './../../../../../dataset/DMControlSuite/Reacher-easy/Expert_demonstration/demonstrations/optimal/seed_2246.npy', './../../../../../dataset/DMControlSuite/Reacher-easy/Expert_demonstration/demonstrations/optimal/seed_2566.npy', './../../../../../dataset/DMControlSuite/Reacher-easy/Expert_demonstration/demonstrations/optimal/seed_2188.npy', './../../../../../dataset/DMControlSuite/Reacher-easy/Expert_demonstration/demonstrations/optimal/seed_2330.npy', './../../../../../dataset/DMControlSuite/Reacher-easy/Expert_demonstration/demonstrations/optimal/seed_2301.npy', './../../../../../dataset/DMControlSuite/Reacher-easy/Expert_demonstration/demonstrations/optimal/seed_2455.npy', './../../../../../dataset/DMControlSuite/Reacher-easy/Expert_demonstration/demonstrations/optimal/seed_2119.npy', './../../../../../dataset/DMControlSuite/Reacher-easy/Expert_demonstration/demonstrations/optimal/seed_2020.npy', './../../../../../dataset/DMControlSuite/Reacher-easy/Expert_demonstration/demonstrations/optimal/seed_2496.npy', './../../../../../dataset/DMControlSuite/Reacher-easy/Expert_demonstration/demonstrations/optimal/seed_2242.npy', './../../../../../dataset/DMControlSuite/Reacher-easy/Expert_demonstration/demonstrations/optimal/seed_2492.npy', './../../../../../dataset/DMControlSuite/Reacher-easy/Expert_demonstration/demonstrations/optimal/seed_2239.npy', './../../../../../dataset/DMControlSuite/Reacher-easy/Expert_demonstration/demonstrations/optimal/seed_2596.npy', './../../../../../dataset/DMControlSuite/Reacher-easy/Expert_demonstration/demonstrations/optimal/seed_2629.npy', './../../../../../dataset/DMControlSuite/Reacher-easy/Expert_demonstration/demonstrations/optimal/seed_2646.npy', './../../../../../dataset/DMControlSuite/Reacher-easy/Expert_demonstration/demonstrations/optimal/seed_2649.npy', './../../../../../dataset/DMControlSuite/Reacher-easy/Expert_demonstration/demonstrations/optimal/seed_2655.npy', './../../../../../dataset/DMControlSuite/Reacher-easy/Expert_demonstration/demonstrations/optimal/seed_2665.npy', './../../../../../dataset/DMControlSuite/Reacher-easy/Expert_demonstration/demonstrations/optimal/seed_2671.npy', './../../../../../dataset/DMControlSuite/Reacher-easy/Expert_demonstration/demonstrations/optimal/seed_2680.npy', './../../../../../dataset/DMControlSuite/Reacher-easy/Expert_demonstration/demonstrations/optimal/seed_2697.npy', './../../../../../dataset/DMControlSuite/Reacher-easy/Expert_demonstration/demonstrations/optimal/seed_2709.npy', './../../../../../dataset/DMControlSuite/Reacher-easy/Expert_demonstration/demonstrations/optimal/seed_2716.npy', './../../../../../dataset/DMControlSuite/Reacher-easy/Expert_demonstration/demonstrations/optimal/seed_2732.npy', './../../../../../dataset/DMControlSuite/Reacher-easy/Expert_demonstration/demonstrations/optimal/seed_2739.npy', './../../../../../dataset/DMControlSuite/Reacher-easy/Expert_demonstration/demonstrations/optimal/seed_2795.npy', './../../../../../dataset/DMControlSuite/Reacher-easy/Expert_demonstration/demonstrations/optimal/seed_2801.npy', './../../../../../dataset/DMControlSuite/Reacher-easy/Expert_demonstration/demonstrations/optimal/seed_2823.npy', './../../../../../dataset/DMControlSuite/Reacher-easy/Expert_demonstration/demonstrations/optimal/seed_2832.npy', './../../../../../dataset/DMControlSuite/Reacher-easy/Expert_demonstration/demonstrations/optimal/seed_2839.npy', './../../../../../dataset/DMControlSuite/Reacher-easy/Expert_demonstration/demonstrations/optimal/seed_2846.npy', './../../../../../dataset/DMControlSuite/Reacher-easy/Expert_demonstration/demonstrations/optimal/seed_2862.npy', './../../../../../dataset/DMControlSuite/Reacher-easy/Expert_demonstration/demonstrations/optimal/seed_2881.npy', './../../../../../dataset/DMControlSuite/Reacher-easy/Expert_demonstration/demonstrations/optimal/seed_2920.npy', './../../../../../dataset/DMControlSuite/Reacher-easy/Expert_demonstration/demonstrations/optimal/seed_2923.npy', './../../../../../dataset/DMControlSuite/Reacher-easy/Expert_demonstration/demonstrations/optimal/seed_2931.npy', './../../../../../dataset/DMControlSuite/Reacher-easy/Expert_demonstration/demonstrations/optimal/seed_2938.npy', './../../../../../dataset/DMControlSuite/Reacher-easy/Expert_demonstration/demonstrations/optimal/seed_2948.npy', './../../../../../dataset/DMControlSuite/Reacher-easy/Expert_demonstration/demonstrations/optimal/seed_2951.npy', './../../../../../dataset/DMControlSuite/Reacher-easy/Expert_demonstration/demonstrations/optimal/seed_2462.npy', './../../../../../dataset/DMControlSuite/Reacher-easy/Expert_demonstration/demonstrations/optimal/seed_2009.npy', './../../../../../dataset/DMControlSuite/Reacher-easy/Expert_demonstration/demonstrations/optimal/seed_2280.npy', './../../../../../dataset/DMControlSuite/Reacher-easy/Expert_demonstration/demonstrations/optimal/seed_2383.npy', './../../../../../dataset/DMControlSuite/Reacher-easy/Expert_demonstration/demonstrations/optimal/seed_2304.npy', './../../../../../dataset/DMControlSuite/Reacher-easy/Expert_demonstration/demonstrations/optimal/seed_2023.npy', './../../../../../dataset/DMControlSuite/Reacher-easy/Expert_demonstration/demonstrations/optimal/seed_2402.npy', './../../../../../dataset/DMControlSuite/Reacher-easy/Expert_demonstration/demonstrations/optimal/seed_2524.npy', './../../../../../dataset/DMControlSuite/Reacher-easy/Expert_demonstration/demonstrations/optimal/seed_2273.npy', './../../../../../dataset/DMControlSuite/Reacher-easy/Expert_demonstration/demonstrations/optimal/seed_2488.npy', './../../../../../dataset/DMControlSuite/Reacher-easy/Expert_demonstration/demonstrations/optimal/seed_2149.npy', './../../../../../dataset/DMControlSuite/Reacher-easy/Expert_demonstration/demonstrations/optimal/seed_2144.npy', './../../../../../dataset/DMControlSuite/Reacher-easy/Expert_demonstration/demonstrations/optimal/seed_2139.npy', './../../../../../dataset/DMControlSuite/Reacher-easy/Expert_demonstration/demonstrations/optimal/seed_2352.npy', './../../../../../dataset/DMControlSuite/Reacher-easy/Expert_demonstration/demonstrations/optimal/seed_2493.npy', './../../../../../dataset/DMControlSuite/Reacher-easy/Expert_demonstration/demonstrations/optimal/seed_2299.npy', './../../../../../dataset/DMControlSuite/Reacher-easy/Expert_demonstration/demonstrations/optimal/seed_2552.npy', './../../../../../dataset/DMControlSuite/Reacher-easy/Expert_demonstration/demonstrations/optimal/seed_2350.npy', './../../../../../dataset/DMControlSuite/Reacher-easy/Expert_demonstration/demonstrations/optimal/seed_2153.npy', './../../../../../dataset/DMControlSuite/Reacher-easy/Expert_demonstration/demonstrations/optimal/seed_2415.npy', './../../../../../dataset/DMControlSuite/Reacher-easy/Expert_demonstration/demonstrations/optimal/seed_2285.npy', './../../../../../dataset/DMControlSuite/Reacher-easy/Expert_demonstration/demonstrations/optimal/seed_2177.npy', './../../../../../dataset/DMControlSuite/Reacher-easy/Expert_demonstration/demonstrations/optimal/seed_2237.npy', './../../../../../dataset/DMControlSuite/Reacher-easy/Expert_demonstration/demonstrations/optimal/seed_2082.npy', './../../../../../dataset/DMControlSuite/Reacher-easy/Expert_demonstration/demonstrations/optimal/seed_2541.npy', './../../../../../dataset/DMControlSuite/Reacher-easy/Expert_demonstration/demonstrations/optimal/seed_2029.npy', './../../../../../dataset/DMControlSuite/Reacher-easy/Expert_demonstration/demonstrations/optimal/seed_2435.npy', './../../../../../dataset/DMControlSuite/Reacher-easy/Expert_demonstration/demonstrations/optimal/seed_2232.npy', './../../../../../dataset/DMControlSuite/Reacher-easy/Expert_demonstration/demonstrations/optimal/seed_2276.npy', './../../../../../dataset/DMControlSuite/Reacher-easy/Expert_demonstration/demonstrations/optimal/seed_2136.npy', './../../../../../dataset/DMControlSuite/Reacher-easy/Expert_demonstration/demonstrations/optimal/seed_2204.npy', './../../../../../dataset/DMControlSuite/Reacher-easy/Expert_demonstration/demonstrations/optimal/seed_2221.npy', './../../../../../dataset/DMControlSuite/Reacher-easy/Expert_demonstration/demonstrations/optimal/seed_2349.npy', './../../../../../dataset/DMControlSuite/Reacher-easy/Expert_demonstration/demonstrations/optimal/seed_2321.npy', './../../../../../dataset/DMControlSuite/Reacher-easy/Expert_demonstration/demonstrations/optimal/seed_2206.npy', './../../../../../dataset/DMControlSuite/Reacher-easy/Expert_demonstration/demonstrations/optimal/seed_2067.npy', './../../../../../dataset/DMControlSuite/Reacher-easy/Expert_demonstration/demonstrations/optimal/seed_2474.npy', './../../../../../dataset/DMControlSuite/Reacher-easy/Expert_demonstration/demonstrations/optimal/seed_2073.npy', './../../../../../dataset/DMControlSuite/Reacher-easy/Expert_demonstration/demonstrations/optimal/seed_2133.npy', './../../../../../dataset/DMControlSuite/Reacher-easy/Expert_demonstration/demonstrations/optimal/seed_2241.npy', './../../../../../dataset/DMControlSuite/Reacher-easy/Expert_demonstration/demonstrations/optimal/seed_2546.npy', './../../../../../dataset/DMControlSuite/Reacher-easy/Expert_demonstration/demonstrations/optimal/seed_2357.npy', './../../../../../dataset/DMControlSuite/Reacher-easy/Expert_demonstration/demonstrations/optimal/seed_2396.npy', './../../../../../dataset/DMControlSuite/Reacher-easy/Expert_demonstration/demonstrations/optimal/seed_2605.npy', './../../../../../dataset/DMControlSuite/Reacher-easy/Expert_demonstration/demonstrations/optimal/seed_2622.npy', './../../../../../dataset/DMControlSuite/Reacher-easy/Expert_demonstration/demonstrations/optimal/seed_2643.npy', './../../../../../dataset/DMControlSuite/Reacher-easy/Expert_demonstration/demonstrations/optimal/seed_2698.npy', './../../../../../dataset/DMControlSuite/Reacher-easy/Expert_demonstration/demonstrations/optimal/seed_2713.npy', './../../../../../dataset/DMControlSuite/Reacher-easy/Expert_demonstration/demonstrations/optimal/seed_2715.npy', './../../../../../dataset/DMControlSuite/Reacher-easy/Expert_demonstration/demonstrations/optimal/seed_2723.npy', './../../../../../dataset/DMControlSuite/Reacher-easy/Expert_demonstration/demonstrations/optimal/seed_2752.npy', './../../../../../dataset/DMControlSuite/Reacher-easy/Expert_demonstration/demonstrations/optimal/seed_2762.npy', './../../../../../dataset/DMControlSuite/Reacher-easy/Expert_demonstration/demonstrations/optimal/seed_2778.npy', './../../../../../dataset/DMControlSuite/Reacher-easy/Expert_demonstration/demonstrations/optimal/seed_2782.npy', './../../../../../dataset/DMControlSuite/Reacher-easy/Expert_demonstration/demonstrations/optimal/seed_2797.npy', './../../../../../dataset/DMControlSuite/Reacher-easy/Expert_demonstration/demonstrations/optimal/seed_2804.npy', './../../../../../dataset/DMControlSuite/Reacher-easy/Expert_demonstration/demonstrations/optimal/seed_2813.npy', './../../../../../dataset/DMControlSuite/Reacher-easy/Expert_demonstration/demonstrations/optimal/seed_2826.npy', './../../../../../dataset/DMControlSuite/Reacher-easy/Expert_demonstration/demonstrations/optimal/seed_2847.npy', './../../../../../dataset/DMControlSuite/Reacher-easy/Expert_demonstration/demonstrations/optimal/seed_2853.npy', './../../../../../dataset/DMControlSuite/Reacher-easy/Expert_demonstration/demonstrations/optimal/seed_2871.npy', './../../../../../dataset/DMControlSuite/Reacher-easy/Expert_demonstration/demonstrations/optimal/seed_2880.npy', './../../../../../dataset/DMControlSuite/Reacher-easy/Expert_demonstration/demonstrations/optimal/seed_2890.npy', './../../../../../dataset/DMControlSuite/Reacher-easy/Expert_demonstration/demonstrations/optimal/seed_2892.npy', './../../../../../dataset/DMControlSuite/Reacher-easy/Expert_demonstration/demonstrations/optimal/seed_2926.npy', './../../../../../dataset/DMControlSuite/Reacher-easy/Expert_demonstration/demonstrations/optimal/seed_2927.npy', './../../../../../dataset/DMControlSuite/Reacher-easy/Expert_demonstration/demonstrations/optimal/seed_2934.npy', './../../../../../dataset/DMControlSuite/Reacher-easy/Expert_demonstration/demonstrations/optimal/seed_2989.npy', './../../../../../dataset/DMControlSuite/Reacher-easy/Expert_demonstration/demonstrations/optimal/seed_2021.npy', './../../../../../dataset/DMControlSuite/Reacher-easy/Expert_demonstration/demonstrations/optimal/seed_2519.npy', './../../../../../dataset/DMControlSuite/Reacher-easy/Expert_demonstration/demonstrations/optimal/seed_2642.npy', './../../../../../dataset/DMControlSuite/Reacher-easy/Expert_demonstration/demonstrations/optimal/seed_2537.npy', './../../../../../dataset/DMControlSuite/Reacher-easy/Expert_demonstration/demonstrations/optimal/seed_2562.npy', './../../../../../dataset/DMControlSuite/Reacher-easy/Expert_demonstration/demonstrations/optimal/seed_2535.npy', './../../../../../dataset/DMControlSuite/Reacher-easy/Expert_demonstration/demonstrations/optimal/seed_2036.npy', './../../../../../dataset/DMControlSuite/Reacher-easy/Expert_demonstration/demonstrations/optimal/seed_2761.npy', './../../../../../dataset/DMControlSuite/Reacher-easy/Expert_demonstration/demonstrations/optimal/seed_2131.npy', './../../../../../dataset/DMControlSuite/Reacher-easy/Expert_demonstration/demonstrations/optimal/seed_2211.npy', './../../../../../dataset/DMControlSuite/Reacher-easy/Expert_demonstration/demonstrations/optimal/seed_2060.npy', './../../../../../dataset/DMControlSuite/Reacher-easy/Expert_demonstration/demonstrations/optimal/seed_2501.npy', './../../../../../dataset/DMControlSuite/Reacher-easy/Expert_demonstration/demonstrations/optimal/seed_2370.npy', './../../../../../dataset/DMControlSuite/Reacher-easy/Expert_demonstration/demonstrations/optimal/seed_2529.npy', './../../../../../dataset/DMControlSuite/Reacher-easy/Expert_demonstration/demonstrations/optimal/seed_2265.npy', './../../../../../dataset/DMControlSuite/Reacher-easy/Expert_demonstration/demonstrations/optimal/seed_2104.npy', './../../../../../dataset/DMControlSuite/Reacher-easy/Expert_demonstration/demonstrations/optimal/seed_2146.npy', './../../../../../dataset/DMControlSuite/Reacher-easy/Expert_demonstration/demonstrations/optimal/seed_2586.npy', './../../../../../dataset/DMControlSuite/Reacher-easy/Expert_demonstration/demonstrations/optimal/seed_2708.npy', './../../../../../dataset/DMControlSuite/Reacher-easy/Expert_demonstration/demonstrations/optimal/seed_2759.npy', './../../../../../dataset/DMControlSuite/Reacher-easy/Expert_demonstration/demonstrations/optimal/seed_2667.npy', './../../../../../dataset/DMControlSuite/Reacher-easy/Expert_demonstration/demonstrations/optimal/seed_2550.npy', './../../../../../dataset/DMControlSuite/Reacher-easy/Expert_demonstration/demonstrations/optimal/seed_2531.npy', './../../../../../dataset/DMControlSuite/Reacher-easy/Expert_demonstration/demonstrations/optimal/seed_2292.npy', './../../../../../dataset/DMControlSuite/Reacher-easy/Expert_demonstration/demonstrations/optimal/seed_2373.npy', './../../../../../dataset/DMControlSuite/Reacher-easy/Expert_demonstration/demonstrations/optimal/seed_2635.npy', './../../../../../dataset/DMControlSuite/Reacher-easy/Expert_demonstration/demonstrations/optimal/seed_2760.npy', './../../../../../dataset/DMControlSuite/Reacher-easy/Expert_demonstration/demonstrations/optimal/seed_2122.npy', './../../../../../dataset/DMControlSuite/Reacher-easy/Expert_demonstration/demonstrations/optimal/seed_2253.npy', './../../../../../dataset/DMControlSuite/Reacher-easy/Expert_demonstration/demonstrations/optimal/seed_2616.npy', './../../../../../dataset/DMControlSuite/Reacher-easy/Expert_demonstration/demonstrations/optimal/seed_2006.npy', './../../../../../dataset/DMControlSuite/Reacher-easy/Expert_demonstration/demonstrations/optimal/seed_2202.npy', './../../../../../dataset/DMControlSuite/Reacher-easy/Expert_demonstration/demonstrations/optimal/seed_2159.npy', './../../../../../dataset/DMControlSuite/Reacher-easy/Expert_demonstration/demonstrations/optimal/seed_2696.npy', './../../../../../dataset/DMControlSuite/Reacher-easy/Expert_demonstration/demonstrations/optimal/seed_2170.npy', './../../../../../dataset/DMControlSuite/Reacher-easy/Expert_demonstration/demonstrations/optimal/seed_2576.npy', './../../../../../dataset/DMControlSuite/Reacher-easy/Expert_demonstration/demonstrations/optimal/seed_2049.npy', './../../../../../dataset/DMControlSuite/Reacher-easy/Expert_demonstration/demonstrations/optimal/seed_2516.npy', './../../../../../dataset/DMControlSuite/Reacher-easy/Expert_demonstration/demonstrations/optimal/seed_2243.npy', './../../../../../dataset/DMControlSuite/Reacher-easy/Expert_demonstration/demonstrations/optimal/seed_2753.npy', './../../../../../dataset/DMControlSuite/Reacher-easy/Expert_demonstration/demonstrations/optimal/seed_2269.npy', './../../../../../dataset/DMControlSuite/Reacher-easy/Expert_demonstration/demonstrations/optimal/seed_2018.npy', './../../../../../dataset/DMControlSuite/Reacher-easy/Expert_demonstration/demonstrations/optimal/seed_2342.npy', './../../../../../dataset/DMControlSuite/Reacher-easy/Expert_demonstration/demonstrations/optimal/seed_2081.npy', './../../../../../dataset/DMControlSuite/Reacher-easy/Expert_demonstration/demonstrations/optimal/seed_2379.npy', './../../../../../dataset/DMControlSuite/Reacher-easy/Expert_demonstration/demonstrations/optimal/seed_2796.npy', './../../../../../dataset/DMControlSuite/Reacher-easy/Expert_demonstration/demonstrations/optimal/seed_2798.npy', './../../../../../dataset/DMControlSuite/Reacher-easy/Expert_demonstration/demonstrations/optimal/seed_2821.npy', './../../../../../dataset/DMControlSuite/Reacher-easy/Expert_demonstration/demonstrations/optimal/seed_2828.npy', './../../../../../dataset/DMControlSuite/Reacher-easy/Expert_demonstration/demonstrations/optimal/seed_2852.npy', './../../../../../dataset/DMControlSuite/Reacher-easy/Expert_demonstration/demonstrations/optimal/seed_2863.npy', './../../../../../dataset/DMControlSuite/Reacher-easy/Expert_demonstration/demonstrations/optimal/seed_2875.npy', './../../../../../dataset/DMControlSuite/Reacher-easy/Expert_demonstration/demonstrations/optimal/seed_2884.npy', './../../../../../dataset/DMControlSuite/Reacher-easy/Expert_demonstration/demonstrations/optimal/seed_2906.npy', './../../../../../dataset/DMControlSuite/Reacher-easy/Expert_demonstration/demonstrations/optimal/seed_2956.npy', './../../../../../dataset/DMControlSuite/Reacher-easy/Expert_demonstration/demonstrations/optimal/seed_2959.npy', './../../../../../dataset/DMControlSuite/Reacher-easy/Expert_demonstration/demonstrations/optimal/seed_2974.npy', './../../../../../dataset/DMControlSuite/Reacher-easy/Expert_demonstration/demonstrations/optimal/seed_2983.npy', './../../../../../dataset/DMControlSuite/Reacher-easy/Expert_demonstration/demonstrations/optimal/seed_2988.npy', './../../../../../dataset/DMControlSuite/Reacher-easy/Expert_demonstration/demonstrations/optimal/seed_2058.npy', './../../../../../dataset/DMControlSuite/Reacher-easy/Expert_demonstration/demonstrations/optimal/seed_2207.npy', './../../../../../dataset/DMControlSuite/Reacher-easy/Expert_demonstration/demonstrations/optimal/seed_2771.npy', './../../../../../dataset/DMControlSuite/Reacher-easy/Expert_demonstration/demonstrations/optimal/seed_2210.npy', './../../../../../dataset/DMControlSuite/Reacher-easy/Expert_demonstration/demonstrations/optimal/seed_2126.npy', './../../../../../dataset/DMControlSuite/Reacher-easy/Expert_demonstration/demonstrations/optimal/seed_2591.npy', './../../../../../dataset/DMControlSuite/Reacher-easy/Expert_demonstration/demonstrations/optimal/seed_2518.npy', './../../../../../dataset/DMControlSuite/Reacher-easy/Expert_demonstration/demonstrations/optimal/seed_2387.npy', './../../../../../dataset/DMControlSuite/Reacher-easy/Expert_demonstration/demonstrations/optimal/seed_2807.npy', './../../../../../dataset/DMControlSuite/Reacher-easy/Expert_demonstration/demonstrations/optimal/seed_2729.npy', './../../../../../dataset/DMControlSuite/Reacher-easy/Expert_demonstration/demonstrations/optimal/seed_2189.npy', './../../../../../dataset/DMControlSuite/Reacher-easy/Expert_demonstration/demonstrations/optimal/seed_2506.npy', './../../../../../dataset/DMControlSuite/Reacher-easy/Expert_demonstration/demonstrations/optimal/seed_2398.npy', './../../../../../dataset/DMControlSuite/Reacher-easy/Expert_demonstration/demonstrations/optimal/seed_2031.npy', './../../../../../dataset/DMControlSuite/Reacher-easy/Expert_demonstration/demonstrations/optimal/seed_2332.npy', './../../../../../dataset/DMControlSuite/Reacher-easy/Expert_demonstration/demonstrations/optimal/seed_2601.npy', './../../../../../dataset/DMControlSuite/Reacher-easy/Expert_demonstration/demonstrations/optimal/seed_2063.npy', './../../../../../dataset/DMControlSuite/Reacher-easy/Expert_demonstration/demonstrations/optimal/seed_2071.npy', './../../../../../dataset/DMControlSuite/Reacher-easy/Expert_demonstration/demonstrations/optimal/seed_2076.npy', './../../../../../dataset/DMControlSuite/Reacher-easy/Expert_demonstration/demonstrations/optimal/seed_2095.npy', './../../../../../dataset/DMControlSuite/Reacher-easy/Expert_demonstration/demonstrations/optimal/seed_2781.npy', './../../../../../dataset/DMControlSuite/Reacher-easy/Expert_demonstration/demonstrations/optimal/seed_2039.npy', './../../../../../dataset/DMControlSuite/Reacher-easy/Expert_demonstration/demonstrations/optimal/seed_2812.npy', './../../../../../dataset/DMControlSuite/Reacher-easy/Expert_demonstration/demonstrations/optimal/seed_2824.npy', './../../../../../dataset/DMControlSuite/Reacher-easy/Expert_demonstration/demonstrations/optimal/seed_2577.npy', './../../../../../dataset/DMControlSuite/Reacher-easy/Expert_demonstration/demonstrations/optimal/seed_2182.npy', './../../../../../dataset/DMControlSuite/Reacher-easy/Expert_demonstration/demonstrations/optimal/seed_2162.npy', './../../../../../dataset/DMControlSuite/Reacher-easy/Expert_demonstration/demonstrations/optimal/seed_2356.npy', './../../../../../dataset/DMControlSuite/Reacher-easy/Expert_demonstration/demonstrations/optimal/seed_2744.npy', './../../../../../dataset/DMControlSuite/Reacher-easy/Expert_demonstration/demonstrations/optimal/seed_2121.npy', './../../../../../dataset/DMControlSuite/Reacher-easy/Expert_demonstration/demonstrations/optimal/seed_2072.npy', './../../../../../dataset/DMControlSuite/Reacher-easy/Expert_demonstration/demonstrations/optimal/seed_2040.npy', './../../../../../dataset/DMControlSuite/Reacher-easy/Expert_demonstration/demonstrations/optimal/seed_2344.npy', './../../../../../dataset/DMControlSuite/Reacher-easy/Expert_demonstration/demonstrations/optimal/seed_2354.npy', './../../../../../dataset/DMControlSuite/Reacher-easy/Expert_demonstration/demonstrations/optimal/seed_2114.npy', './../../../../../dataset/DMControlSuite/Reacher-easy/Expert_demonstration/demonstrations/optimal/seed_2607.npy', './../../../../../dataset/DMControlSuite/Reacher-easy/Expert_demonstration/demonstrations/optimal/seed_2658.npy', './../../../../../dataset/DMControlSuite/Reacher-easy/Expert_demonstration/demonstrations/optimal/seed_2767.npy', './../../../../../dataset/DMControlSuite/Reacher-easy/Expert_demonstration/demonstrations/optimal/seed_2772.npy', './../../../../../dataset/DMControlSuite/Reacher-easy/Expert_demonstration/demonstrations/optimal/seed_2077.npy', './../../../../../dataset/DMControlSuite/Reacher-easy/Expert_demonstration/demonstrations/optimal/seed_2678.npy', './../../../../../dataset/DMControlSuite/Reacher-easy/Expert_demonstration/demonstrations/optimal/seed_2035.npy', './../../../../../dataset/DMControlSuite/Reacher-easy/Expert_demonstration/demonstrations/optimal/seed_2712.npy', './../../../../../dataset/DMControlSuite/Reacher-easy/Expert_demonstration/demonstrations/optimal/seed_2686.npy', './../../../../../dataset/DMControlSuite/Reacher-easy/Expert_demonstration/demonstrations/optimal/seed_2610.npy', './../../../../../dataset/DMControlSuite/Reacher-easy/Expert_demonstration/demonstrations/optimal/seed_2844.npy', './../../../../../dataset/DMControlSuite/Reacher-easy/Expert_demonstration/demonstrations/optimal/seed_2845.npy', './../../../../../dataset/DMControlSuite/Reacher-easy/Expert_demonstration/demonstrations/optimal/seed_2868.npy', './../../../../../dataset/DMControlSuite/Reacher-easy/Expert_demonstration/demonstrations/optimal/seed_2900.npy', './../../../../../dataset/DMControlSuite/Reacher-easy/Expert_demonstration/demonstrations/optimal/seed_2910.npy', './../../../../../dataset/DMControlSuite/Reacher-easy/Expert_demonstration/demonstrations/optimal/seed_2911.npy', './../../../../../dataset/DMControlSuite/Reacher-easy/Expert_demonstration/demonstrations/optimal/seed_2912.npy', './../../../../../dataset/DMControlSuite/Reacher-easy/Expert_demonstration/demonstrations/optimal/seed_2922.npy', './../../../../../dataset/DMControlSuite/Reacher-easy/Expert_demonstration/demonstrations/optimal/seed_2964.npy', './../../../../../dataset/DMControlSuite/Reacher-easy/Expert_demonstration/demonstrations/optimal/seed_2977.npy', './../../../../../dataset/DMControlSuite/Reacher-easy/Expert_demonstration/demonstrations/optimal/seed_2982.npy', './../../../../../dataset/DMControlSuite/Reacher-easy/Expert_demonstration/demonstrations/optimal/seed_2984.npy', './../../../../../dataset/DMControlSuite/Reacher-easy/Expert_demonstration/demonstrations/optimal/seed_2986.npy', './../../../../../dataset/DMControlSuite/Reacher-easy/Expert_demonstration/demonstrations/optimal/seed_2991.npy', './../../../../../dataset/DMControlSuite/Reacher-easy/Expert_demonstration/demonstrations/optimal/seed_2995.npy']\n",
      "find 500 npy files!\n"
     ]
    },
    {
     "name": "stderr",
     "output_type": "stream",
     "text": [
      "load dataset:   3%|████▊                                                                                                                                                          | 15/500 [00:00<00:03, 147.32it/s]"
     ]
    },
    {
     "name": "stdout",
     "output_type": "stream",
     "text": [
      "./../../../../../dataset/DMControlSuite/Reacher-easy/Expert_demonstration/demonstrations/optimal/seed_2014.npy\n",
      "./../../../../../dataset/DMControlSuite/Reacher-easy/Expert_demonstration/demonstrations/optimal/seed_2027.npy\n",
      "./../../../../../dataset/DMControlSuite/Reacher-easy/Expert_demonstration/demonstrations/optimal/seed_2057.npy\n",
      "./../../../../../dataset/DMControlSuite/Reacher-easy/Expert_demonstration/demonstrations/optimal/seed_2070.npy\n",
      "./../../../../../dataset/DMControlSuite/Reacher-easy/Expert_demonstration/demonstrations/optimal/seed_2088.npy\n",
      "./../../../../../dataset/DMControlSuite/Reacher-easy/Expert_demonstration/demonstrations/optimal/seed_2090.npy\n",
      "./../../../../../dataset/DMControlSuite/Reacher-easy/Expert_demonstration/demonstrations/optimal/seed_2094.npy\n",
      "./../../../../../dataset/DMControlSuite/Reacher-easy/Expert_demonstration/demonstrations/optimal/seed_2111.npy\n",
      "./../../../../../dataset/DMControlSuite/Reacher-easy/Expert_demonstration/demonstrations/optimal/seed_2116.npy\n",
      "./../../../../../dataset/DMControlSuite/Reacher-easy/Expert_demonstration/demonstrations/optimal/seed_2132.npy\n",
      "./../../../../../dataset/DMControlSuite/Reacher-easy/Expert_demonstration/demonstrations/optimal/seed_2143.npy\n",
      "./../../../../../dataset/DMControlSuite/Reacher-easy/Expert_demonstration/demonstrations/optimal/seed_2151.npy\n",
      "./../../../../../dataset/DMControlSuite/Reacher-easy/Expert_demonstration/demonstrations/optimal/seed_2164.npy\n",
      "./../../../../../dataset/DMControlSuite/Reacher-easy/Expert_demonstration/demonstrations/optimal/seed_2168.npy\n",
      "./../../../../../dataset/DMControlSuite/Reacher-easy/Expert_demonstration/demonstrations/optimal/seed_2172.npy\n",
      "./../../../../../dataset/DMControlSuite/Reacher-easy/Expert_demonstration/demonstrations/optimal/seed_2194.npy\n",
      "./../../../../../dataset/DMControlSuite/Reacher-easy/Expert_demonstration/demonstrations/optimal/seed_2197.npy\n",
      "./../../../../../dataset/DMControlSuite/Reacher-easy/Expert_demonstration/demonstrations/optimal/seed_2205.npy\n",
      "./../../../../../dataset/DMControlSuite/Reacher-easy/Expert_demonstration/demonstrations/optimal/seed_2208.npy\n",
      "./../../../../../dataset/DMControlSuite/Reacher-easy/Expert_demonstration/demonstrations/optimal/seed_2215.npy\n",
      "./../../../../../dataset/DMControlSuite/Reacher-easy/Expert_demonstration/demonstrations/optimal/seed_2222.npy\n",
      "./../../../../../dataset/DMControlSuite/Reacher-easy/Expert_demonstration/demonstrations/optimal/seed_2256.npy\n",
      "./../../../../../dataset/DMControlSuite/Reacher-easy/Expert_demonstration/demonstrations/optimal/seed_2274.npy\n",
      "./../../../../../dataset/DMControlSuite/Reacher-easy/Expert_demonstration/demonstrations/optimal/seed_2281.npy\n",
      "./../../../../../dataset/DMControlSuite/Reacher-easy/Expert_demonstration/demonstrations/optimal/seed_2289.npy\n",
      "./../../../../../dataset/DMControlSuite/Reacher-easy/Expert_demonstration/demonstrations/optimal/seed_2300.npy\n",
      "./../../../../../dataset/DMControlSuite/Reacher-easy/Expert_demonstration/demonstrations/optimal/seed_2303.npy\n",
      "./../../../../../dataset/DMControlSuite/Reacher-easy/Expert_demonstration/demonstrations/optimal/seed_2315.npy\n"
     ]
    },
    {
     "name": "stderr",
     "output_type": "stream",
     "text": [
      "                                                                                                                                                                                                                    \r"
     ]
    },
    {
     "name": "stdout",
     "output_type": "stream",
     "text": [
      "./../../../../../dataset/DMControlSuite/Reacher-easy/Expert_demonstration/demonstrations/optimal/seed_2331.npy\n"
     ]
    },
    {
     "name": "stderr",
     "output_type": "stream",
     "text": [
      "load dataset:   9%|█████████████▉                                                                                                                                                 | 44/500 [00:00<00:03, 121.60it/s]"
     ]
    },
    {
     "name": "stdout",
     "output_type": "stream",
     "text": [
      "./../../../../../dataset/DMControlSuite/Reacher-easy/Expert_demonstration/demonstrations/optimal/seed_2374.npy\n",
      "./../../../../../dataset/DMControlSuite/Reacher-easy/Expert_demonstration/demonstrations/optimal/seed_2399.npy\n",
      "./../../../../../dataset/DMControlSuite/Reacher-easy/Expert_demonstration/demonstrations/optimal/seed_2400.npy\n",
      "./../../../../../dataset/DMControlSuite/Reacher-easy/Expert_demonstration/demonstrations/optimal/seed_2421.npy\n",
      "./../../../../../dataset/DMControlSuite/Reacher-easy/Expert_demonstration/demonstrations/optimal/seed_2430.npy\n",
      "./../../../../../dataset/DMControlSuite/Reacher-easy/Expert_demonstration/demonstrations/optimal/seed_2436.npy\n",
      "./../../../../../dataset/DMControlSuite/Reacher-easy/Expert_demonstration/demonstrations/optimal/seed_2444.npy\n",
      "./../../../../../dataset/DMControlSuite/Reacher-easy/Expert_demonstration/demonstrations/optimal/seed_2450.npy\n",
      "./../../../../../dataset/DMControlSuite/Reacher-easy/Expert_demonstration/demonstrations/optimal/seed_2456.npy\n",
      "./../../../../../dataset/DMControlSuite/Reacher-easy/Expert_demonstration/demonstrations/optimal/seed_2515.npy\n",
      "./../../../../../dataset/DMControlSuite/Reacher-easy/Expert_demonstration/demonstrations/optimal/seed_2558.npy\n",
      "./../../../../../dataset/DMControlSuite/Reacher-easy/Expert_demonstration/demonstrations/optimal/seed_2563.npy\n",
      "./../../../../../dataset/DMControlSuite/Reacher-easy/Expert_demonstration/demonstrations/optimal/seed_2572.npy\n",
      "./../../../../../dataset/DMControlSuite/Reacher-easy/Expert_demonstration/demonstrations/optimal/seed_2585.npy\n",
      "./../../../../../dataset/DMControlSuite/Reacher-easy/Expert_demonstration/demonstrations/optimal/seed_2597.npy\n",
      "./../../../../../dataset/DMControlSuite/Reacher-easy/Expert_demonstration/demonstrations/optimal/seed_2609.npy\n",
      "./../../../../../dataset/DMControlSuite/Reacher-easy/Expert_demonstration/demonstrations/optimal/seed_2611.npy\n",
      "./../../../../../dataset/DMControlSuite/Reacher-easy/Expert_demonstration/demonstrations/optimal/seed_2612.npy\n",
      "./../../../../../dataset/DMControlSuite/Reacher-easy/Expert_demonstration/demonstrations/optimal/seed_2617.npy\n",
      "./../../../../../dataset/DMControlSuite/Reacher-easy/Expert_demonstration/demonstrations/optimal/seed_2627.npy\n",
      "./../../../../../dataset/DMControlSuite/Reacher-easy/Expert_demonstration/demonstrations/optimal/seed_2638.npy\n",
      "./../../../../../dataset/DMControlSuite/Reacher-easy/Expert_demonstration/demonstrations/optimal/seed_2662.npy\n",
      "./../../../../../dataset/DMControlSuite/Reacher-easy/Expert_demonstration/demonstrations/optimal/seed_2676.npy\n",
      "./../../../../../dataset/DMControlSuite/Reacher-easy/Expert_demonstration/demonstrations/optimal/seed_2702.npy\n",
      "./../../../../../dataset/DMControlSuite/Reacher-easy/Expert_demonstration/demonstrations/optimal/seed_2725.npy\n",
      "./../../../../../dataset/DMControlSuite/Reacher-easy/Expert_demonstration/demonstrations/optimal/seed_2743.npy\n",
      "./../../../../../dataset/DMControlSuite/Reacher-easy/Expert_demonstration/demonstrations/optimal/seed_2764.npy\n",
      "./../../../../../dataset/DMControlSuite/Reacher-easy/Expert_demonstration/demonstrations/optimal/seed_2773.npy\n",
      "./../../../../../dataset/DMControlSuite/Reacher-easy/Expert_demonstration/demonstrations/optimal/seed_2777.npy\n"
     ]
    },
    {
     "name": "stderr",
     "output_type": "stream",
     "text": [
      "load dataset:   9%|█████████████▉                                                                                                                                                 | 44/500 [00:00<00:03, 121.60it/s]"
     ]
    },
    {
     "name": "stdout",
     "output_type": "stream",
     "text": [
      "./../../../../../dataset/DMControlSuite/Reacher-easy/Expert_demonstration/demonstrations/optimal/seed_2779.npy\n",
      "./../../../../../dataset/DMControlSuite/Reacher-easy/Expert_demonstration/demonstrations/optimal/seed_2811.npy\n"
     ]
    },
    {
     "name": "stderr",
     "output_type": "stream",
     "text": [
      "load dataset:  18%|████████████████████████████▉                                                                                                                                  | 91/500 [00:00<00:02, 187.20it/s]"
     ]
    },
    {
     "name": "stdout",
     "output_type": "stream",
     "text": [
      "./../../../../../dataset/DMControlSuite/Reacher-easy/Expert_demonstration/demonstrations/optimal/seed_2817.npy\n",
      "./../../../../../dataset/DMControlSuite/Reacher-easy/Expert_demonstration/demonstrations/optimal/seed_2822.npy\n",
      "./../../../../../dataset/DMControlSuite/Reacher-easy/Expert_demonstration/demonstrations/optimal/seed_2842.npy\n",
      "./../../../../../dataset/DMControlSuite/Reacher-easy/Expert_demonstration/demonstrations/optimal/seed_2843.npy\n",
      "./../../../../../dataset/DMControlSuite/Reacher-easy/Expert_demonstration/demonstrations/optimal/seed_2855.npy\n",
      "./../../../../../dataset/DMControlSuite/Reacher-easy/Expert_demonstration/demonstrations/optimal/seed_2864.npy\n",
      "./../../../../../dataset/DMControlSuite/Reacher-easy/Expert_demonstration/demonstrations/optimal/seed_2889.npy\n",
      "./../../../../../dataset/DMControlSuite/Reacher-easy/Expert_demonstration/demonstrations/optimal/seed_2913.npy\n",
      "./../../../../../dataset/DMControlSuite/Reacher-easy/Expert_demonstration/demonstrations/optimal/seed_2924.npy\n",
      "./../../../../../dataset/DMControlSuite/Reacher-easy/Expert_demonstration/demonstrations/optimal/seed_2936.npy\n",
      "./../../../../../dataset/DMControlSuite/Reacher-easy/Expert_demonstration/demonstrations/optimal/seed_2978.npy\n",
      "./../../../../../dataset/DMControlSuite/Reacher-easy/Expert_demonstration/demonstrations/optimal/seed_2999.npy\n",
      "./../../../../../dataset/DMControlSuite/Reacher-easy/Expert_demonstration/demonstrations/optimal/seed_2017.npy\n",
      "./../../../../../dataset/DMControlSuite/Reacher-easy/Expert_demonstration/demonstrations/optimal/seed_2167.npy\n",
      "./../../../../../dataset/DMControlSuite/Reacher-easy/Expert_demonstration/demonstrations/optimal/seed_2025.npy\n",
      "./../../../../../dataset/DMControlSuite/Reacher-easy/Expert_demonstration/demonstrations/optimal/seed_2135.npy\n",
      "./../../../../../dataset/DMControlSuite/Reacher-easy/Expert_demonstration/demonstrations/optimal/seed_2125.npy\n",
      "./../../../../../dataset/DMControlSuite/Reacher-easy/Expert_demonstration/demonstrations/optimal/seed_2013.npy\n",
      "./../../../../../dataset/DMControlSuite/Reacher-easy/Expert_demonstration/demonstrations/optimal/seed_2100.npy\n",
      "./../../../../../dataset/DMControlSuite/Reacher-easy/Expert_demonstration/demonstrations/optimal/seed_2124.npy\n",
      "./../../../../../dataset/DMControlSuite/Reacher-easy/Expert_demonstration/demonstrations/optimal/seed_2098.npy\n",
      "./../../../../../dataset/DMControlSuite/Reacher-easy/Expert_demonstration/demonstrations/optimal/seed_2155.npy\n",
      "./../../../../../dataset/DMControlSuite/Reacher-easy/Expert_demonstration/demonstrations/optimal/seed_2109.npy\n",
      "./../../../../../dataset/DMControlSuite/Reacher-easy/Expert_demonstration/demonstrations/optimal/seed_2097.npy\n",
      "./../../../../../dataset/DMControlSuite/Reacher-easy/Expert_demonstration/demonstrations/optimal/seed_2066.npy\n",
      "./../../../../../dataset/DMControlSuite/Reacher-easy/Expert_demonstration/demonstrations/optimal/seed_2120.npy\n",
      "./../../../../../dataset/DMControlSuite/Reacher-easy/Expert_demonstration/demonstrations/optimal/seed_2112.npy\n",
      "./../../../../../dataset/DMControlSuite/Reacher-easy/Expert_demonstration/demonstrations/optimal/seed_2038.npy\n",
      "./../../../../../dataset/DMControlSuite/Reacher-easy/Expert_demonstration/demonstrations/optimal/seed_2199.npy\n",
      "./../../../../../dataset/DMControlSuite/Reacher-easy/Expert_demonstration/demonstrations/optimal/seed_2255.npy\n",
      "./../../../../../dataset/DMControlSuite/Reacher-easy/Expert_demonstration/demonstrations/optimal/seed_2270.npy\n",
      "./../../../../../dataset/DMControlSuite/Reacher-easy/Expert_demonstration/demonstrations/optimal/seed_2311.npy\n",
      "./../../../../../dataset/DMControlSuite/Reacher-easy/Expert_demonstration/demonstrations/optimal/seed_2312.npy\n",
      "./../../../../../dataset/DMControlSuite/Reacher-easy/Expert_demonstration/demonstrations/optimal/seed_2351.npy\n",
      "./../../../../../dataset/DMControlSuite/Reacher-easy/Expert_demonstration/demonstrations/optimal/seed_2368.npy\n",
      "./../../../../../dataset/DMControlSuite/Reacher-easy/Expert_demonstration/demonstrations/optimal/seed_2377.npy\n",
      "./../../../../../dataset/DMControlSuite/Reacher-easy/Expert_demonstration/demonstrations/optimal/seed_2418.npy\n",
      "./../../../../../dataset/DMControlSuite/Reacher-easy/Expert_demonstration/demonstrations/optimal/seed_2442.npy\n",
      "./../../../../../dataset/DMControlSuite/Reacher-easy/Expert_demonstration/demonstrations/optimal/seed_2445.npy\n",
      "./../../../../../dataset/DMControlSuite/Reacher-easy/Expert_demonstration/demonstrations/optimal/seed_2461.npy\n",
      "./../../../../../dataset/DMControlSuite/Reacher-easy/Expert_demonstration/demonstrations/optimal/seed_2469.npy\n",
      "./../../../../../dataset/DMControlSuite/Reacher-easy/Expert_demonstration/demonstrations/optimal/seed_2482.npy\n"
     ]
    },
    {
     "name": "stderr",
     "output_type": "stream",
     "text": [
      "load dataset:  18%|████████████████████████████▉                                                                                                                                  | 91/500 [00:00<00:02, 187.20it/s]"
     ]
    },
    {
     "name": "stdout",
     "output_type": "stream",
     "text": [
      "./../../../../../dataset/DMControlSuite/Reacher-easy/Expert_demonstration/demonstrations/optimal/seed_2486.npy\n"
     ]
    },
    {
     "name": "stderr",
     "output_type": "stream",
     "text": [
      "                                                                                                                                                                                                                    "
     ]
    },
    {
     "name": "stdout",
     "output_type": "stream",
     "text": [
      "./../../../../../dataset/DMControlSuite/Reacher-easy/Expert_demonstration/demonstrations/optimal/seed_2533.npy\n",
      "./../../../../../dataset/DMControlSuite/Reacher-easy/Expert_demonstration/demonstrations/optimal/seed_2547.npy\n",
      "./../../../../../dataset/DMControlSuite/Reacher-easy/Expert_demonstration/demonstrations/optimal/seed_2553.npy\n",
      "./../../../../../dataset/DMControlSuite/Reacher-easy/Expert_demonstration/demonstrations/optimal/seed_2590.npy\n",
      "./../../../../../dataset/DMControlSuite/Reacher-easy/Expert_demonstration/demonstrations/optimal/seed_2613.npy\n",
      "./../../../../../dataset/DMControlSuite/Reacher-easy/Expert_demonstration/demonstrations/optimal/seed_2614.npy\n",
      "./../../../../../dataset/DMControlSuite/Reacher-easy/Expert_demonstration/demonstrations/optimal/seed_2623.npy\n",
      "./../../../../../dataset/DMControlSuite/Reacher-easy/Expert_demonstration/demonstrations/optimal/seed_2640.npy\n",
      "./../../../../../dataset/DMControlSuite/Reacher-easy/Expert_demonstration/demonstrations/optimal/seed_2661.npy\n",
      "./../../../../../dataset/DMControlSuite/Reacher-easy/Expert_demonstration/demonstrations/optimal/seed_2689.npy\n",
      "./../../../../../dataset/DMControlSuite/Reacher-easy/Expert_demonstration/demonstrations/optimal/seed_2699.npy\n",
      "./../../../../../dataset/DMControlSuite/Reacher-easy/Expert_demonstration/demonstrations/optimal/seed_2721.npy\n",
      "./../../../../../dataset/DMControlSuite/Reacher-easy/Expert_demonstration/demonstrations/optimal/seed_2722.npy\n",
      "./../../../../../dataset/DMControlSuite/Reacher-easy/Expert_demonstration/demonstrations/optimal/seed_2726.npy\n",
      "./../../../../../dataset/DMControlSuite/Reacher-easy/Expert_demonstration/demonstrations/optimal/seed_2742.npy\n",
      "./../../../../../dataset/DMControlSuite/Reacher-easy/Expert_demonstration/demonstrations/optimal/seed_2749.npy\n",
      "./../../../../../dataset/DMControlSuite/Reacher-easy/Expert_demonstration/demonstrations/optimal/seed_2768.npy\n",
      "./../../../../../dataset/DMControlSuite/Reacher-easy/Expert_demonstration/demonstrations/optimal/seed_2803.npy\n",
      "./../../../../../dataset/DMControlSuite/Reacher-easy/Expert_demonstration/demonstrations/optimal/seed_2835.npy\n",
      "./../../../../../dataset/DMControlSuite/Reacher-easy/Expert_demonstration/demonstrations/optimal/seed_2841.npy\n",
      "./../../../../../dataset/DMControlSuite/Reacher-easy/Expert_demonstration/demonstrations/optimal/seed_2849.npy\n",
      "./../../../../../dataset/DMControlSuite/Reacher-easy/Expert_demonstration/demonstrations/optimal/seed_2882.npy\n",
      "./../../../../../dataset/DMControlSuite/Reacher-easy/Expert_demonstration/demonstrations/optimal/seed_2901.npy\n",
      "./../../../../../dataset/DMControlSuite/Reacher-easy/Expert_demonstration/demonstrations/optimal/seed_2930.npy\n",
      "./../../../../../dataset/DMControlSuite/Reacher-easy/Expert_demonstration/demonstrations/optimal/seed_2968.npy\n",
      "./../../../../../dataset/DMControlSuite/Reacher-easy/Expert_demonstration/demonstrations/optimal/seed_2969.npy\n",
      "./../../../../../dataset/DMControlSuite/Reacher-easy/Expert_demonstration/demonstrations/optimal/seed_2979.npy\n",
      "./../../../../../dataset/DMControlSuite/Reacher-easy/Expert_demonstration/demonstrations/optimal/seed_2128.npy\n",
      "./../../../../../dataset/DMControlSuite/Reacher-easy/Expert_demonstration/demonstrations/optimal/seed_2295.npy\n",
      "./../../../../../dataset/DMControlSuite/Reacher-easy/Expert_demonstration/demonstrations/optimal/seed_2229.npy\n",
      "./../../../../../dataset/DMControlSuite/Reacher-easy/Expert_demonstration/demonstrations/optimal/seed_2008.npy\n",
      "./../../../../../dataset/DMControlSuite/Reacher-easy/Expert_demonstration/demonstrations/optimal/seed_2218.npy\n",
      "./../../../../../dataset/DMControlSuite/Reacher-easy/Expert_demonstration/demonstrations/optimal/seed_2174.npy\n",
      "./../../../../../dataset/DMControlSuite/Reacher-easy/Expert_demonstration/demonstrations/optimal/seed_2042.npy\n",
      "./../../../../../dataset/DMControlSuite/Reacher-easy/Expert_demonstration/demonstrations/optimal/seed_2176.npy\n",
      "./../../../../../dataset/DMControlSuite/Reacher-easy/Expert_demonstration/demonstrations/optimal/seed_2213.npy\n",
      "./../../../../../dataset/DMControlSuite/Reacher-easy/Expert_demonstration/demonstrations/optimal/seed_2053.npy\n",
      "./../../../../../dataset/DMControlSuite/Reacher-easy/Expert_demonstration/demonstrations/optimal/seed_2142.npy\n",
      "./../../../../../dataset/DMControlSuite/Reacher-easy/Expert_demonstration/demonstrations/optimal/seed_2195.npy\n",
      "./../../../../../dataset/DMControlSuite/Reacher-easy/Expert_demonstration/demonstrations/optimal/seed_2157.npy\n",
      "./../../../../../dataset/DMControlSuite/Reacher-easy/Expert_demonstration/demonstrations/optimal/seed_2074.npy\n",
      "./../../../../../dataset/DMControlSuite/Reacher-easy/Expert_demonstration/demonstrations/optimal/seed_2059.npy\n"
     ]
    },
    {
     "name": "stderr",
     "output_type": "stream",
     "text": [
      "load dataset:  26%|█████████████████████████████████████████▍                                                                                                                    | 131/500 [00:00<00:01, 191.67it/s]"
     ]
    },
    {
     "name": "stdout",
     "output_type": "stream",
     "text": [
      "./../../../../../dataset/DMControlSuite/Reacher-easy/Expert_demonstration/demonstrations/optimal/seed_2252.npy\n",
      "./../../../../../dataset/DMControlSuite/Reacher-easy/Expert_demonstration/demonstrations/optimal/seed_2085.npy\n",
      "./../../../../../dataset/DMControlSuite/Reacher-easy/Expert_demonstration/demonstrations/optimal/seed_2219.npy\n"
     ]
    },
    {
     "name": "stderr",
     "output_type": "stream",
     "text": [
      "load dataset:  35%|███████████████████████████████████████████████████████▉                                                                                                      | 177/500 [00:01<00:01, 195.32it/s]"
     ]
    },
    {
     "name": "stdout",
     "output_type": "stream",
     "text": [
      "./../../../../../dataset/DMControlSuite/Reacher-easy/Expert_demonstration/demonstrations/optimal/seed_2107.npy\n",
      "./../../../../../dataset/DMControlSuite/Reacher-easy/Expert_demonstration/demonstrations/optimal/seed_2193.npy\n",
      "./../../../../../dataset/DMControlSuite/Reacher-easy/Expert_demonstration/demonstrations/optimal/seed_2096.npy\n",
      "./../../../../../dataset/DMControlSuite/Reacher-easy/Expert_demonstration/demonstrations/optimal/seed_2099.npy\n",
      "./../../../../../dataset/DMControlSuite/Reacher-easy/Expert_demonstration/demonstrations/optimal/seed_2034.npy\n",
      "./../../../../../dataset/DMControlSuite/Reacher-easy/Expert_demonstration/demonstrations/optimal/seed_2263.npy\n",
      "./../../../../../dataset/DMControlSuite/Reacher-easy/Expert_demonstration/demonstrations/optimal/seed_2308.npy\n",
      "./../../../../../dataset/DMControlSuite/Reacher-easy/Expert_demonstration/demonstrations/optimal/seed_2317.npy\n",
      "./../../../../../dataset/DMControlSuite/Reacher-easy/Expert_demonstration/demonstrations/optimal/seed_2324.npy\n",
      "./../../../../../dataset/DMControlSuite/Reacher-easy/Expert_demonstration/demonstrations/optimal/seed_2337.npy\n",
      "./../../../../../dataset/DMControlSuite/Reacher-easy/Expert_demonstration/demonstrations/optimal/seed_2345.npy\n",
      "./../../../../../dataset/DMControlSuite/Reacher-easy/Expert_demonstration/demonstrations/optimal/seed_2347.npy\n",
      "./../../../../../dataset/DMControlSuite/Reacher-easy/Expert_demonstration/demonstrations/optimal/seed_2353.npy\n",
      "./../../../../../dataset/DMControlSuite/Reacher-easy/Expert_demonstration/demonstrations/optimal/seed_2355.npy\n",
      "./../../../../../dataset/DMControlSuite/Reacher-easy/Expert_demonstration/demonstrations/optimal/seed_2393.npy\n",
      "./../../../../../dataset/DMControlSuite/Reacher-easy/Expert_demonstration/demonstrations/optimal/seed_2416.npy\n",
      "./../../../../../dataset/DMControlSuite/Reacher-easy/Expert_demonstration/demonstrations/optimal/seed_2423.npy\n",
      "./../../../../../dataset/DMControlSuite/Reacher-easy/Expert_demonstration/demonstrations/optimal/seed_2438.npy\n",
      "./../../../../../dataset/DMControlSuite/Reacher-easy/Expert_demonstration/demonstrations/optimal/seed_2446.npy\n",
      "./../../../../../dataset/DMControlSuite/Reacher-easy/Expert_demonstration/demonstrations/optimal/seed_2453.npy\n",
      "./../../../../../dataset/DMControlSuite/Reacher-easy/Expert_demonstration/demonstrations/optimal/seed_2500.npy\n",
      "./../../../../../dataset/DMControlSuite/Reacher-easy/Expert_demonstration/demonstrations/optimal/seed_2525.npy\n",
      "./../../../../../dataset/DMControlSuite/Reacher-easy/Expert_demonstration/demonstrations/optimal/seed_2584.npy\n",
      "./../../../../../dataset/DMControlSuite/Reacher-easy/Expert_demonstration/demonstrations/optimal/seed_2587.npy\n",
      "./../../../../../dataset/DMControlSuite/Reacher-easy/Expert_demonstration/demonstrations/optimal/seed_2593.npy\n",
      "./../../../../../dataset/DMControlSuite/Reacher-easy/Expert_demonstration/demonstrations/optimal/seed_2683.npy\n",
      "./../../../../../dataset/DMControlSuite/Reacher-easy/Expert_demonstration/demonstrations/optimal/seed_2690.npy\n",
      "./../../../../../dataset/DMControlSuite/Reacher-easy/Expert_demonstration/demonstrations/optimal/seed_2694.npy\n",
      "./../../../../../dataset/DMControlSuite/Reacher-easy/Expert_demonstration/demonstrations/optimal/seed_2700.npy\n",
      "./../../../../../dataset/DMControlSuite/Reacher-easy/Expert_demonstration/demonstrations/optimal/seed_2707.npy\n",
      "./../../../../../dataset/DMControlSuite/Reacher-easy/Expert_demonstration/demonstrations/optimal/seed_2756.npy\n",
      "./../../../../../dataset/DMControlSuite/Reacher-easy/Expert_demonstration/demonstrations/optimal/seed_2763.npy\n",
      "./../../../../../dataset/DMControlSuite/Reacher-easy/Expert_demonstration/demonstrations/optimal/seed_2770.npy\n",
      "./../../../../../dataset/DMControlSuite/Reacher-easy/Expert_demonstration/demonstrations/optimal/seed_2808.npy\n",
      "./../../../../../dataset/DMControlSuite/Reacher-easy/Expert_demonstration/demonstrations/optimal/seed_2919.npy\n",
      "./../../../../../dataset/DMControlSuite/Reacher-easy/Expert_demonstration/demonstrations/optimal/seed_2949.npy\n",
      "./../../../../../dataset/DMControlSuite/Reacher-easy/Expert_demonstration/demonstrations/optimal/seed_2958.npy\n",
      "./../../../../../dataset/DMControlSuite/Reacher-easy/Expert_demonstration/demonstrations/optimal/seed_2970.npy\n"
     ]
    },
    {
     "name": "stderr",
     "output_type": "stream",
     "text": [
      "load dataset:  35%|███████████████████████████████████████████████████████▉                                                                                                      | 177/500 [00:01<00:01, 195.32it/s]"
     ]
    },
    {
     "name": "stdout",
     "output_type": "stream",
     "text": [
      "./../../../../../dataset/DMControlSuite/Reacher-easy/Expert_demonstration/demonstrations/optimal/seed_2992.npy\n",
      "./../../../../../dataset/DMControlSuite/Reacher-easy/Expert_demonstration/demonstrations/optimal/seed_2361.npy\n",
      "./../../../../../dataset/DMControlSuite/Reacher-easy/Expert_demonstration/demonstrations/optimal/seed_2123.npy\n"
     ]
    },
    {
     "name": "stderr",
     "output_type": "stream",
     "text": [
      "load dataset:  41%|████████████████████████████████████████████████████████████████▏                                                                                             | 203/500 [00:01<00:01, 210.38it/s]"
     ]
    },
    {
     "name": "stdout",
     "output_type": "stream",
     "text": [
      "./../../../../../dataset/DMControlSuite/Reacher-easy/Expert_demonstration/demonstrations/optimal/seed_2118.npy\n",
      "./../../../../../dataset/DMControlSuite/Reacher-easy/Expert_demonstration/demonstrations/optimal/seed_2007.npy\n",
      "./../../../../../dataset/DMControlSuite/Reacher-easy/Expert_demonstration/demonstrations/optimal/seed_2165.npy\n",
      "./../../../../../dataset/DMControlSuite/Reacher-easy/Expert_demonstration/demonstrations/optimal/seed_2154.npy\n",
      "./../../../../../dataset/DMControlSuite/Reacher-easy/Expert_demonstration/demonstrations/optimal/seed_2030.npy\n",
      "./../../../../../dataset/DMControlSuite/Reacher-easy/Expert_demonstration/demonstrations/optimal/seed_2105.npy\n",
      "./../../../../../dataset/DMControlSuite/Reacher-easy/Expert_demonstration/demonstrations/optimal/seed_2313.npy\n",
      "./../../../../../dataset/DMControlSuite/Reacher-easy/Expert_demonstration/demonstrations/optimal/seed_2062.npy\n",
      "./../../../../../dataset/DMControlSuite/Reacher-easy/Expert_demonstration/demonstrations/optimal/seed_2185.npy\n",
      "./../../../../../dataset/DMControlSuite/Reacher-easy/Expert_demonstration/demonstrations/optimal/seed_2178.npy\n",
      "./../../../../../dataset/DMControlSuite/Reacher-easy/Expert_demonstration/demonstrations/optimal/seed_2011.npy\n",
      "./../../../../../dataset/DMControlSuite/Reacher-easy/Expert_demonstration/demonstrations/optimal/seed_2075.npy\n",
      "./../../../../../dataset/DMControlSuite/Reacher-easy/Expert_demonstration/demonstrations/optimal/seed_2203.npy\n",
      "./../../../../../dataset/DMControlSuite/Reacher-easy/Expert_demonstration/demonstrations/optimal/seed_2050.npy\n",
      "./../../../../../dataset/DMControlSuite/Reacher-easy/Expert_demonstration/demonstrations/optimal/seed_2307.npy\n",
      "./../../../../../dataset/DMControlSuite/Reacher-easy/Expert_demonstration/demonstrations/optimal/seed_2245.npy\n",
      "./../../../../../dataset/DMControlSuite/Reacher-easy/Expert_demonstration/demonstrations/optimal/seed_2046.npy\n",
      "./../../../../../dataset/DMControlSuite/Reacher-easy/Expert_demonstration/demonstrations/optimal/seed_2041.npy\n",
      "./../../../../../dataset/DMControlSuite/Reacher-easy/Expert_demonstration/demonstrations/optimal/seed_2110.npy\n",
      "./../../../../../dataset/DMControlSuite/Reacher-easy/Expert_demonstration/demonstrations/optimal/seed_2412.npy\n",
      "./../../../../../dataset/DMControlSuite/Reacher-easy/Expert_demonstration/demonstrations/optimal/seed_2244.npy\n",
      "./../../../../../dataset/DMControlSuite/Reacher-easy/Expert_demonstration/demonstrations/optimal/seed_2087.npy\n",
      "./../../../../../dataset/DMControlSuite/Reacher-easy/Expert_demonstration/demonstrations/optimal/seed_2129.npy\n",
      "./../../../../../dataset/DMControlSuite/Reacher-easy/Expert_demonstration/demonstrations/optimal/seed_2408.npy\n",
      "./../../../../../dataset/DMControlSuite/Reacher-easy/Expert_demonstration/demonstrations/optimal/seed_2192.npy\n",
      "./../../../../../dataset/DMControlSuite/Reacher-easy/Expert_demonstration/demonstrations/optimal/seed_2102.npy\n",
      "./../../../../../dataset/DMControlSuite/Reacher-easy/Expert_demonstration/demonstrations/optimal/seed_2367.npy\n",
      "./../../../../../dataset/DMControlSuite/Reacher-easy/Expert_demonstration/demonstrations/optimal/seed_2333.npy\n",
      "./../../../../../dataset/DMControlSuite/Reacher-easy/Expert_demonstration/demonstrations/optimal/seed_2439.npy\n",
      "./../../../../../dataset/DMControlSuite/Reacher-easy/Expert_demonstration/demonstrations/optimal/seed_2451.npy\n",
      "./../../../../../dataset/DMControlSuite/Reacher-easy/Expert_demonstration/demonstrations/optimal/seed_2472.npy\n",
      "./../../../../../dataset/DMControlSuite/Reacher-easy/Expert_demonstration/demonstrations/optimal/seed_2483.npy\n",
      "./../../../../../dataset/DMControlSuite/Reacher-easy/Expert_demonstration/demonstrations/optimal/seed_2489.npy\n",
      "./../../../../../dataset/DMControlSuite/Reacher-easy/Expert_demonstration/demonstrations/optimal/seed_2499.npy\n",
      "./../../../../../dataset/DMControlSuite/Reacher-easy/Expert_demonstration/demonstrations/optimal/seed_2528.npy\n"
     ]
    },
    {
     "name": "stderr",
     "output_type": "stream",
     "text": [
      "load dataset:  45%|███████████████████████████████████████████████████████████████████████                                                                                       | 225/500 [00:01<00:01, 192.86it/s]"
     ]
    },
    {
     "name": "stdout",
     "output_type": "stream",
     "text": [
      "./../../../../../dataset/DMControlSuite/Reacher-easy/Expert_demonstration/demonstrations/optimal/seed_2583.npy\n",
      "./../../../../../dataset/DMControlSuite/Reacher-easy/Expert_demonstration/demonstrations/optimal/seed_2630.npy\n"
     ]
    },
    {
     "name": "stderr",
     "output_type": "stream",
     "text": [
      "load dataset:  50%|███████████████████████████████████████████████████████████████████████████████▎                                                                              | 251/500 [00:01<00:01, 205.04it/s]"
     ]
    },
    {
     "name": "stdout",
     "output_type": "stream",
     "text": [
      "./../../../../../dataset/DMControlSuite/Reacher-easy/Expert_demonstration/demonstrations/optimal/seed_2633.npy\n",
      "./../../../../../dataset/DMControlSuite/Reacher-easy/Expert_demonstration/demonstrations/optimal/seed_2657.npy\n",
      "./../../../../../dataset/DMControlSuite/Reacher-easy/Expert_demonstration/demonstrations/optimal/seed_2660.npy\n",
      "./../../../../../dataset/DMControlSuite/Reacher-easy/Expert_demonstration/demonstrations/optimal/seed_2731.npy\n",
      "./../../../../../dataset/DMControlSuite/Reacher-easy/Expert_demonstration/demonstrations/optimal/seed_2748.npy\n",
      "./../../../../../dataset/DMControlSuite/Reacher-easy/Expert_demonstration/demonstrations/optimal/seed_2765.npy\n",
      "./../../../../../dataset/DMControlSuite/Reacher-easy/Expert_demonstration/demonstrations/optimal/seed_2774.npy\n",
      "./../../../../../dataset/DMControlSuite/Reacher-easy/Expert_demonstration/demonstrations/optimal/seed_2775.npy\n",
      "./../../../../../dataset/DMControlSuite/Reacher-easy/Expert_demonstration/demonstrations/optimal/seed_2794.npy\n",
      "./../../../../../dataset/DMControlSuite/Reacher-easy/Expert_demonstration/demonstrations/optimal/seed_2800.npy\n",
      "./../../../../../dataset/DMControlSuite/Reacher-easy/Expert_demonstration/demonstrations/optimal/seed_2830.npy\n",
      "./../../../../../dataset/DMControlSuite/Reacher-easy/Expert_demonstration/demonstrations/optimal/seed_2834.npy\n",
      "./../../../../../dataset/DMControlSuite/Reacher-easy/Expert_demonstration/demonstrations/optimal/seed_2858.npy\n",
      "./../../../../../dataset/DMControlSuite/Reacher-easy/Expert_demonstration/demonstrations/optimal/seed_2887.npy\n",
      "./../../../../../dataset/DMControlSuite/Reacher-easy/Expert_demonstration/demonstrations/optimal/seed_2888.npy\n",
      "./../../../../../dataset/DMControlSuite/Reacher-easy/Expert_demonstration/demonstrations/optimal/seed_2925.npy\n",
      "./../../../../../dataset/DMControlSuite/Reacher-easy/Expert_demonstration/demonstrations/optimal/seed_2952.npy\n",
      "./../../../../../dataset/DMControlSuite/Reacher-easy/Expert_demonstration/demonstrations/optimal/seed_2967.npy\n",
      "./../../../../../dataset/DMControlSuite/Reacher-easy/Expert_demonstration/demonstrations/optimal/seed_2994.npy\n",
      "./../../../../../dataset/DMControlSuite/Reacher-easy/Expert_demonstration/demonstrations/optimal/seed_2175.npy\n",
      "./../../../../../dataset/DMControlSuite/Reacher-easy/Expert_demonstration/demonstrations/optimal/seed_2249.npy\n",
      "./../../../../../dataset/DMControlSuite/Reacher-easy/Expert_demonstration/demonstrations/optimal/seed_2384.npy\n",
      "./../../../../../dataset/DMControlSuite/Reacher-easy/Expert_demonstration/demonstrations/optimal/seed_2044.npy\n",
      "./../../../../../dataset/DMControlSuite/Reacher-easy/Expert_demonstration/demonstrations/optimal/seed_2217.npy\n",
      "./../../../../../dataset/DMControlSuite/Reacher-easy/Expert_demonstration/demonstrations/optimal/seed_2502.npy\n",
      "./../../../../../dataset/DMControlSuite/Reacher-easy/Expert_demonstration/demonstrations/optimal/seed_2037.npy\n",
      "./../../../../../dataset/DMControlSuite/Reacher-easy/Expert_demonstration/demonstrations/optimal/seed_2190.npy\n",
      "./../../../../../dataset/DMControlSuite/Reacher-easy/Expert_demonstration/demonstrations/optimal/seed_2250.npy\n",
      "./../../../../../dataset/DMControlSuite/Reacher-easy/Expert_demonstration/demonstrations/optimal/seed_2554.npy\n",
      "./../../../../../dataset/DMControlSuite/Reacher-easy/Expert_demonstration/demonstrations/optimal/seed_2527.npy\n",
      "./../../../../../dataset/DMControlSuite/Reacher-easy/Expert_demonstration/demonstrations/optimal/seed_2567.npy\n",
      "./../../../../../dataset/DMControlSuite/Reacher-easy/Expert_demonstration/demonstrations/optimal/seed_2226.npy\n",
      "./../../../../../dataset/DMControlSuite/Reacher-easy/Expert_demonstration/demonstrations/optimal/seed_2360.npy\n",
      "./../../../../../dataset/DMControlSuite/Reacher-easy/Expert_demonstration/demonstrations/optimal/seed_2137.npy\n",
      "./../../../../../dataset/DMControlSuite/Reacher-easy/Expert_demonstration/demonstrations/optimal/seed_2391.npy\n",
      "./../../../../../dataset/DMControlSuite/Reacher-easy/Expert_demonstration/demonstrations/optimal/seed_2346.npy\n",
      "./../../../../../dataset/DMControlSuite/Reacher-easy/Expert_demonstration/demonstrations/optimal/seed_2026.npy\n",
      "./../../../../../dataset/DMControlSuite/Reacher-easy/Expert_demonstration/demonstrations/optimal/seed_2267.npy\n",
      "./../../../../../dataset/DMControlSuite/Reacher-easy/Expert_demonstration/demonstrations/optimal/seed_2414.npy\n"
     ]
    },
    {
     "name": "stderr",
     "output_type": "stream",
     "text": [
      "load dataset:  50%|███████████████████████████████████████████████████████████████████████████████▎                                                                              | 251/500 [00:01<00:01, 205.04it/s]"
     ]
    },
    {
     "name": "stdout",
     "output_type": "stream",
     "text": [
      "./../../../../../dataset/DMControlSuite/Reacher-easy/Expert_demonstration/demonstrations/optimal/seed_2108.npy\n"
     ]
    },
    {
     "name": "stderr",
     "output_type": "stream",
     "text": [
      "load dataset:  54%|█████████████████████████████████████████████████████████████████████████████████████▉                                                                        | 272/500 [00:01<00:01, 176.74it/s]"
     ]
    },
    {
     "name": "stdout",
     "output_type": "stream",
     "text": [
      "./../../../../../dataset/DMControlSuite/Reacher-easy/Expert_demonstration/demonstrations/optimal/seed_2297.npy\n",
      "./../../../../../dataset/DMControlSuite/Reacher-easy/Expert_demonstration/demonstrations/optimal/seed_2341.npy\n",
      "./../../../../../dataset/DMControlSuite/Reacher-easy/Expert_demonstration/demonstrations/optimal/seed_2504.npy\n",
      "./../../../../../dataset/DMControlSuite/Reacher-easy/Expert_demonstration/demonstrations/optimal/seed_2051.npy\n",
      "./../../../../../dataset/DMControlSuite/Reacher-easy/Expert_demonstration/demonstrations/optimal/seed_2471.npy\n",
      "./../../../../../dataset/DMControlSuite/Reacher-easy/Expert_demonstration/demonstrations/optimal/seed_2507.npy\n",
      "./../../../../../dataset/DMControlSuite/Reacher-easy/Expert_demonstration/demonstrations/optimal/seed_2150.npy\n",
      "./../../../../../dataset/DMControlSuite/Reacher-easy/Expert_demonstration/demonstrations/optimal/seed_2091.npy\n",
      "./../../../../../dataset/DMControlSuite/Reacher-easy/Expert_demonstration/demonstrations/optimal/seed_2246.npy\n",
      "./../../../../../dataset/DMControlSuite/Reacher-easy/Expert_demonstration/demonstrations/optimal/seed_2566.npy\n",
      "./../../../../../dataset/DMControlSuite/Reacher-easy/Expert_demonstration/demonstrations/optimal/seed_2188.npy\n",
      "./../../../../../dataset/DMControlSuite/Reacher-easy/Expert_demonstration/demonstrations/optimal/seed_2330.npy\n",
      "./../../../../../dataset/DMControlSuite/Reacher-easy/Expert_demonstration/demonstrations/optimal/seed_2301.npy\n",
      "./../../../../../dataset/DMControlSuite/Reacher-easy/Expert_demonstration/demonstrations/optimal/seed_2455.npy\n",
      "./../../../../../dataset/DMControlSuite/Reacher-easy/Expert_demonstration/demonstrations/optimal/seed_2119.npy\n",
      "./../../../../../dataset/DMControlSuite/Reacher-easy/Expert_demonstration/demonstrations/optimal/seed_2020.npy\n",
      "./../../../../../dataset/DMControlSuite/Reacher-easy/Expert_demonstration/demonstrations/optimal/seed_2496.npy\n",
      "./../../../../../dataset/DMControlSuite/Reacher-easy/Expert_demonstration/demonstrations/optimal/seed_2242.npy\n",
      "./../../../../../dataset/DMControlSuite/Reacher-easy/Expert_demonstration/demonstrations/optimal/seed_2492.npy\n",
      "./../../../../../dataset/DMControlSuite/Reacher-easy/Expert_demonstration/demonstrations/optimal/seed_2239.npy\n",
      "./../../../../../dataset/DMControlSuite/Reacher-easy/Expert_demonstration/demonstrations/optimal/seed_2596.npy\n"
     ]
    },
    {
     "name": "stderr",
     "output_type": "stream",
     "text": [
      "                                                                                                                                                                                                                    "
     ]
    },
    {
     "name": "stdout",
     "output_type": "stream",
     "text": [
      "./../../../../../dataset/DMControlSuite/Reacher-easy/Expert_demonstration/demonstrations/optimal/seed_2629.npy\n",
      "./../../../../../dataset/DMControlSuite/Reacher-easy/Expert_demonstration/demonstrations/optimal/seed_2646.npy\n"
     ]
    },
    {
     "name": "stderr",
     "output_type": "stream",
     "text": [
      "load dataset:  62%|█████████████████████████████████████████████████████████████████████████████████████████████████▎                                                            | 308/500 [00:01<00:01, 161.00it/s]"
     ]
    },
    {
     "name": "stdout",
     "output_type": "stream",
     "text": [
      "./../../../../../dataset/DMControlSuite/Reacher-easy/Expert_demonstration/demonstrations/optimal/seed_2649.npy\n",
      "./../../../../../dataset/DMControlSuite/Reacher-easy/Expert_demonstration/demonstrations/optimal/seed_2655.npy\n",
      "./../../../../../dataset/DMControlSuite/Reacher-easy/Expert_demonstration/demonstrations/optimal/seed_2665.npy\n",
      "./../../../../../dataset/DMControlSuite/Reacher-easy/Expert_demonstration/demonstrations/optimal/seed_2671.npy\n",
      "./../../../../../dataset/DMControlSuite/Reacher-easy/Expert_demonstration/demonstrations/optimal/seed_2680.npy\n",
      "./../../../../../dataset/DMControlSuite/Reacher-easy/Expert_demonstration/demonstrations/optimal/seed_2697.npy\n",
      "./../../../../../dataset/DMControlSuite/Reacher-easy/Expert_demonstration/demonstrations/optimal/seed_2709.npy\n",
      "./../../../../../dataset/DMControlSuite/Reacher-easy/Expert_demonstration/demonstrations/optimal/seed_2716.npy\n",
      "./../../../../../dataset/DMControlSuite/Reacher-easy/Expert_demonstration/demonstrations/optimal/seed_2732.npy\n",
      "./../../../../../dataset/DMControlSuite/Reacher-easy/Expert_demonstration/demonstrations/optimal/seed_2739.npy\n",
      "./../../../../../dataset/DMControlSuite/Reacher-easy/Expert_demonstration/demonstrations/optimal/seed_2795.npy\n",
      "./../../../../../dataset/DMControlSuite/Reacher-easy/Expert_demonstration/demonstrations/optimal/seed_2801.npy\n",
      "./../../../../../dataset/DMControlSuite/Reacher-easy/Expert_demonstration/demonstrations/optimal/seed_2823.npy\n",
      "./../../../../../dataset/DMControlSuite/Reacher-easy/Expert_demonstration/demonstrations/optimal/seed_2832.npy\n",
      "./../../../../../dataset/DMControlSuite/Reacher-easy/Expert_demonstration/demonstrations/optimal/seed_2839.npy\n",
      "./../../../../../dataset/DMControlSuite/Reacher-easy/Expert_demonstration/demonstrations/optimal/seed_2846.npy\n",
      "./../../../../../dataset/DMControlSuite/Reacher-easy/Expert_demonstration/demonstrations/optimal/seed_2862.npy\n",
      "./../../../../../dataset/DMControlSuite/Reacher-easy/Expert_demonstration/demonstrations/optimal/seed_2881.npy\n",
      "./../../../../../dataset/DMControlSuite/Reacher-easy/Expert_demonstration/demonstrations/optimal/seed_2920.npy\n",
      "./../../../../../dataset/DMControlSuite/Reacher-easy/Expert_demonstration/demonstrations/optimal/seed_2923.npy\n",
      "./../../../../../dataset/DMControlSuite/Reacher-easy/Expert_demonstration/demonstrations/optimal/seed_2931.npy\n",
      "./../../../../../dataset/DMControlSuite/Reacher-easy/Expert_demonstration/demonstrations/optimal/seed_2938.npy\n",
      "./../../../../../dataset/DMControlSuite/Reacher-easy/Expert_demonstration/demonstrations/optimal/seed_2948.npy\n",
      "./../../../../../dataset/DMControlSuite/Reacher-easy/Expert_demonstration/demonstrations/optimal/seed_2951.npy\n",
      "./../../../../../dataset/DMControlSuite/Reacher-easy/Expert_demonstration/demonstrations/optimal/seed_2462.npy\n",
      "./../../../../../dataset/DMControlSuite/Reacher-easy/Expert_demonstration/demonstrations/optimal/seed_2009.npy\n",
      "./../../../../../dataset/DMControlSuite/Reacher-easy/Expert_demonstration/demonstrations/optimal/seed_2280.npy\n",
      "./../../../../../dataset/DMControlSuite/Reacher-easy/Expert_demonstration/demonstrations/optimal/seed_2383.npy\n",
      "./../../../../../dataset/DMControlSuite/Reacher-easy/Expert_demonstration/demonstrations/optimal/seed_2304.npy\n",
      "./../../../../../dataset/DMControlSuite/Reacher-easy/Expert_demonstration/demonstrations/optimal/seed_2023.npy\n",
      "./../../../../../dataset/DMControlSuite/Reacher-easy/Expert_demonstration/demonstrations/optimal/seed_2402.npy\n",
      "./../../../../../dataset/DMControlSuite/Reacher-easy/Expert_demonstration/demonstrations/optimal/seed_2524.npy\n",
      "./../../../../../dataset/DMControlSuite/Reacher-easy/Expert_demonstration/demonstrations/optimal/seed_2273.npy\n",
      "./../../../../../dataset/DMControlSuite/Reacher-easy/Expert_demonstration/demonstrations/optimal/seed_2488.npy\n",
      "./../../../../../dataset/DMControlSuite/Reacher-easy/Expert_demonstration/demonstrations/optimal/seed_2149.npy\n",
      "./../../../../../dataset/DMControlSuite/Reacher-easy/Expert_demonstration/demonstrations/optimal/seed_2144.npy\n",
      "./../../../../../dataset/DMControlSuite/Reacher-easy/Expert_demonstration/demonstrations/optimal/seed_2139.npy\n"
     ]
    },
    {
     "name": "stderr",
     "output_type": "stream",
     "text": [
      "load dataset:  62%|█████████████████████████████████████████████████████████████████████████████████████████████████▎                                                            | 308/500 [00:01<00:01, 161.00it/s]"
     ]
    },
    {
     "name": "stdout",
     "output_type": "stream",
     "text": [
      "./../../../../../dataset/DMControlSuite/Reacher-easy/Expert_demonstration/demonstrations/optimal/seed_2352.npy\n",
      "./../../../../../dataset/DMControlSuite/Reacher-easy/Expert_demonstration/demonstrations/optimal/seed_2493.npy\n"
     ]
    },
    {
     "name": "stderr",
     "output_type": "stream",
     "text": [
      "load dataset:  70%|██████████████████████████████████████████████████████████████████████████████████████████████████████████████▎                                               | 349/500 [00:02<00:00, 177.46it/s]"
     ]
    },
    {
     "name": "stdout",
     "output_type": "stream",
     "text": [
      "./../../../../../dataset/DMControlSuite/Reacher-easy/Expert_demonstration/demonstrations/optimal/seed_2299.npy\n",
      "./../../../../../dataset/DMControlSuite/Reacher-easy/Expert_demonstration/demonstrations/optimal/seed_2552.npy\n",
      "./../../../../../dataset/DMControlSuite/Reacher-easy/Expert_demonstration/demonstrations/optimal/seed_2350.npy\n",
      "./../../../../../dataset/DMControlSuite/Reacher-easy/Expert_demonstration/demonstrations/optimal/seed_2153.npy\n",
      "./../../../../../dataset/DMControlSuite/Reacher-easy/Expert_demonstration/demonstrations/optimal/seed_2415.npy\n",
      "./../../../../../dataset/DMControlSuite/Reacher-easy/Expert_demonstration/demonstrations/optimal/seed_2285.npy\n",
      "./../../../../../dataset/DMControlSuite/Reacher-easy/Expert_demonstration/demonstrations/optimal/seed_2177.npy\n",
      "./../../../../../dataset/DMControlSuite/Reacher-easy/Expert_demonstration/demonstrations/optimal/seed_2237.npy\n",
      "./../../../../../dataset/DMControlSuite/Reacher-easy/Expert_demonstration/demonstrations/optimal/seed_2082.npy\n",
      "./../../../../../dataset/DMControlSuite/Reacher-easy/Expert_demonstration/demonstrations/optimal/seed_2541.npy\n",
      "./../../../../../dataset/DMControlSuite/Reacher-easy/Expert_demonstration/demonstrations/optimal/seed_2029.npy\n",
      "./../../../../../dataset/DMControlSuite/Reacher-easy/Expert_demonstration/demonstrations/optimal/seed_2435.npy\n",
      "./../../../../../dataset/DMControlSuite/Reacher-easy/Expert_demonstration/demonstrations/optimal/seed_2232.npy\n",
      "./../../../../../dataset/DMControlSuite/Reacher-easy/Expert_demonstration/demonstrations/optimal/seed_2276.npy\n",
      "./../../../../../dataset/DMControlSuite/Reacher-easy/Expert_demonstration/demonstrations/optimal/seed_2136.npy\n",
      "./../../../../../dataset/DMControlSuite/Reacher-easy/Expert_demonstration/demonstrations/optimal/seed_2204.npy\n",
      "./../../../../../dataset/DMControlSuite/Reacher-easy/Expert_demonstration/demonstrations/optimal/seed_2221.npy\n",
      "./../../../../../dataset/DMControlSuite/Reacher-easy/Expert_demonstration/demonstrations/optimal/seed_2349.npy\n",
      "./../../../../../dataset/DMControlSuite/Reacher-easy/Expert_demonstration/demonstrations/optimal/seed_2321.npy\n",
      "./../../../../../dataset/DMControlSuite/Reacher-easy/Expert_demonstration/demonstrations/optimal/seed_2206.npy\n",
      "./../../../../../dataset/DMControlSuite/Reacher-easy/Expert_demonstration/demonstrations/optimal/seed_2067.npy\n",
      "./../../../../../dataset/DMControlSuite/Reacher-easy/Expert_demonstration/demonstrations/optimal/seed_2474.npy\n",
      "./../../../../../dataset/DMControlSuite/Reacher-easy/Expert_demonstration/demonstrations/optimal/seed_2073.npy\n",
      "./../../../../../dataset/DMControlSuite/Reacher-easy/Expert_demonstration/demonstrations/optimal/seed_2133.npy\n",
      "./../../../../../dataset/DMControlSuite/Reacher-easy/Expert_demonstration/demonstrations/optimal/seed_2241.npy\n",
      "./../../../../../dataset/DMControlSuite/Reacher-easy/Expert_demonstration/demonstrations/optimal/seed_2546.npy\n",
      "./../../../../../dataset/DMControlSuite/Reacher-easy/Expert_demonstration/demonstrations/optimal/seed_2357.npy\n",
      "./../../../../../dataset/DMControlSuite/Reacher-easy/Expert_demonstration/demonstrations/optimal/seed_2396.npy\n",
      "./../../../../../dataset/DMControlSuite/Reacher-easy/Expert_demonstration/demonstrations/optimal/seed_2605.npy\n",
      "./../../../../../dataset/DMControlSuite/Reacher-easy/Expert_demonstration/demonstrations/optimal/seed_2622.npy\n",
      "./../../../../../dataset/DMControlSuite/Reacher-easy/Expert_demonstration/demonstrations/optimal/seed_2643.npy\n",
      "./../../../../../dataset/DMControlSuite/Reacher-easy/Expert_demonstration/demonstrations/optimal/seed_2698.npy\n",
      "./../../../../../dataset/DMControlSuite/Reacher-easy/Expert_demonstration/demonstrations/optimal/seed_2713.npy\n"
     ]
    },
    {
     "name": "stderr",
     "output_type": "stream",
     "text": [
      "load dataset:  70%|██████████████████████████████████████████████████████████████████████████████████████████████████████████████▎                                               | 349/500 [00:02<00:00, 177.46it/s]"
     ]
    },
    {
     "name": "stdout",
     "output_type": "stream",
     "text": [
      "./../../../../../dataset/DMControlSuite/Reacher-easy/Expert_demonstration/demonstrations/optimal/seed_2715.npy\n",
      "./../../../../../dataset/DMControlSuite/Reacher-easy/Expert_demonstration/demonstrations/optimal/seed_2723.npy\n"
     ]
    },
    {
     "name": "stderr",
     "output_type": "stream",
     "text": [
      "load dataset:  77%|█████████████████████████████████████████████████████████████████████████████████████████████████████████████████████████▉                                    | 386/500 [00:02<00:00, 161.46it/s]"
     ]
    },
    {
     "name": "stdout",
     "output_type": "stream",
     "text": [
      "./../../../../../dataset/DMControlSuite/Reacher-easy/Expert_demonstration/demonstrations/optimal/seed_2752.npy\n",
      "./../../../../../dataset/DMControlSuite/Reacher-easy/Expert_demonstration/demonstrations/optimal/seed_2762.npy\n",
      "./../../../../../dataset/DMControlSuite/Reacher-easy/Expert_demonstration/demonstrations/optimal/seed_2778.npy\n",
      "./../../../../../dataset/DMControlSuite/Reacher-easy/Expert_demonstration/demonstrations/optimal/seed_2782.npy\n",
      "./../../../../../dataset/DMControlSuite/Reacher-easy/Expert_demonstration/demonstrations/optimal/seed_2797.npy\n",
      "./../../../../../dataset/DMControlSuite/Reacher-easy/Expert_demonstration/demonstrations/optimal/seed_2804.npy\n",
      "./../../../../../dataset/DMControlSuite/Reacher-easy/Expert_demonstration/demonstrations/optimal/seed_2813.npy\n",
      "./../../../../../dataset/DMControlSuite/Reacher-easy/Expert_demonstration/demonstrations/optimal/seed_2826.npy\n",
      "./../../../../../dataset/DMControlSuite/Reacher-easy/Expert_demonstration/demonstrations/optimal/seed_2847.npy\n",
      "./../../../../../dataset/DMControlSuite/Reacher-easy/Expert_demonstration/demonstrations/optimal/seed_2853.npy\n",
      "./../../../../../dataset/DMControlSuite/Reacher-easy/Expert_demonstration/demonstrations/optimal/seed_2871.npy\n",
      "./../../../../../dataset/DMControlSuite/Reacher-easy/Expert_demonstration/demonstrations/optimal/seed_2880.npy\n",
      "./../../../../../dataset/DMControlSuite/Reacher-easy/Expert_demonstration/demonstrations/optimal/seed_2890.npy\n",
      "./../../../../../dataset/DMControlSuite/Reacher-easy/Expert_demonstration/demonstrations/optimal/seed_2892.npy\n",
      "./../../../../../dataset/DMControlSuite/Reacher-easy/Expert_demonstration/demonstrations/optimal/seed_2926.npy\n",
      "./../../../../../dataset/DMControlSuite/Reacher-easy/Expert_demonstration/demonstrations/optimal/seed_2927.npy\n",
      "./../../../../../dataset/DMControlSuite/Reacher-easy/Expert_demonstration/demonstrations/optimal/seed_2934.npy\n",
      "./../../../../../dataset/DMControlSuite/Reacher-easy/Expert_demonstration/demonstrations/optimal/seed_2989.npy\n",
      "./../../../../../dataset/DMControlSuite/Reacher-easy/Expert_demonstration/demonstrations/optimal/seed_2021.npy\n",
      "./../../../../../dataset/DMControlSuite/Reacher-easy/Expert_demonstration/demonstrations/optimal/seed_2519.npy\n",
      "./../../../../../dataset/DMControlSuite/Reacher-easy/Expert_demonstration/demonstrations/optimal/seed_2642.npy\n",
      "./../../../../../dataset/DMControlSuite/Reacher-easy/Expert_demonstration/demonstrations/optimal/seed_2537.npy\n",
      "./../../../../../dataset/DMControlSuite/Reacher-easy/Expert_demonstration/demonstrations/optimal/seed_2562.npy\n",
      "./../../../../../dataset/DMControlSuite/Reacher-easy/Expert_demonstration/demonstrations/optimal/seed_2535.npy\n",
      "./../../../../../dataset/DMControlSuite/Reacher-easy/Expert_demonstration/demonstrations/optimal/seed_2036.npy\n",
      "./../../../../../dataset/DMControlSuite/Reacher-easy/Expert_demonstration/demonstrations/optimal/seed_2761.npy\n",
      "./../../../../../dataset/DMControlSuite/Reacher-easy/Expert_demonstration/demonstrations/optimal/seed_2131.npy\n",
      "./../../../../../dataset/DMControlSuite/Reacher-easy/Expert_demonstration/demonstrations/optimal/seed_2211.npy\n",
      "./../../../../../dataset/DMControlSuite/Reacher-easy/Expert_demonstration/demonstrations/optimal/seed_2060.npy\n",
      "./../../../../../dataset/DMControlSuite/Reacher-easy/Expert_demonstration/demonstrations/optimal/seed_2501.npy\n"
     ]
    },
    {
     "name": "stderr",
     "output_type": "stream",
     "text": [
      "load dataset:  77%|█████████████████████████████████████████████████████████████████████████████████████████████████████████████████████████▉                                    | 386/500 [00:02<00:00, 161.46it/s]"
     ]
    },
    {
     "name": "stdout",
     "output_type": "stream",
     "text": [
      "./../../../../../dataset/DMControlSuite/Reacher-easy/Expert_demonstration/demonstrations/optimal/seed_2370.npy\n",
      "./../../../../../dataset/DMControlSuite/Reacher-easy/Expert_demonstration/demonstrations/optimal/seed_2529.npy\n"
     ]
    },
    {
     "name": "stderr",
     "output_type": "stream",
     "text": [
      "load dataset:  85%|██████████████████████████████████████████████████████████████████████████████████████████████████████████████████████████████████████▎                       | 425/500 [00:02<00:00, 170.31it/s]"
     ]
    },
    {
     "name": "stdout",
     "output_type": "stream",
     "text": [
      "./../../../../../dataset/DMControlSuite/Reacher-easy/Expert_demonstration/demonstrations/optimal/seed_2265.npy\n",
      "./../../../../../dataset/DMControlSuite/Reacher-easy/Expert_demonstration/demonstrations/optimal/seed_2104.npy\n",
      "./../../../../../dataset/DMControlSuite/Reacher-easy/Expert_demonstration/demonstrations/optimal/seed_2146.npy\n",
      "./../../../../../dataset/DMControlSuite/Reacher-easy/Expert_demonstration/demonstrations/optimal/seed_2586.npy\n",
      "./../../../../../dataset/DMControlSuite/Reacher-easy/Expert_demonstration/demonstrations/optimal/seed_2708.npy\n",
      "./../../../../../dataset/DMControlSuite/Reacher-easy/Expert_demonstration/demonstrations/optimal/seed_2759.npy\n",
      "./../../../../../dataset/DMControlSuite/Reacher-easy/Expert_demonstration/demonstrations/optimal/seed_2667.npy\n",
      "./../../../../../dataset/DMControlSuite/Reacher-easy/Expert_demonstration/demonstrations/optimal/seed_2550.npy\n",
      "./../../../../../dataset/DMControlSuite/Reacher-easy/Expert_demonstration/demonstrations/optimal/seed_2531.npy\n",
      "./../../../../../dataset/DMControlSuite/Reacher-easy/Expert_demonstration/demonstrations/optimal/seed_2292.npy\n",
      "./../../../../../dataset/DMControlSuite/Reacher-easy/Expert_demonstration/demonstrations/optimal/seed_2373.npy\n",
      "./../../../../../dataset/DMControlSuite/Reacher-easy/Expert_demonstration/demonstrations/optimal/seed_2635.npy\n",
      "./../../../../../dataset/DMControlSuite/Reacher-easy/Expert_demonstration/demonstrations/optimal/seed_2760.npy\n",
      "./../../../../../dataset/DMControlSuite/Reacher-easy/Expert_demonstration/demonstrations/optimal/seed_2122.npy\n",
      "./../../../../../dataset/DMControlSuite/Reacher-easy/Expert_demonstration/demonstrations/optimal/seed_2253.npy\n",
      "./../../../../../dataset/DMControlSuite/Reacher-easy/Expert_demonstration/demonstrations/optimal/seed_2616.npy\n",
      "./../../../../../dataset/DMControlSuite/Reacher-easy/Expert_demonstration/demonstrations/optimal/seed_2006.npy\n",
      "./../../../../../dataset/DMControlSuite/Reacher-easy/Expert_demonstration/demonstrations/optimal/seed_2202.npy\n",
      "./../../../../../dataset/DMControlSuite/Reacher-easy/Expert_demonstration/demonstrations/optimal/seed_2159.npy\n",
      "./../../../../../dataset/DMControlSuite/Reacher-easy/Expert_demonstration/demonstrations/optimal/seed_2696.npy\n",
      "./../../../../../dataset/DMControlSuite/Reacher-easy/Expert_demonstration/demonstrations/optimal/seed_2170.npy\n",
      "./../../../../../dataset/DMControlSuite/Reacher-easy/Expert_demonstration/demonstrations/optimal/seed_2576.npy\n",
      "./../../../../../dataset/DMControlSuite/Reacher-easy/Expert_demonstration/demonstrations/optimal/seed_2049.npy\n",
      "./../../../../../dataset/DMControlSuite/Reacher-easy/Expert_demonstration/demonstrations/optimal/seed_2516.npy\n",
      "./../../../../../dataset/DMControlSuite/Reacher-easy/Expert_demonstration/demonstrations/optimal/seed_2243.npy\n",
      "./../../../../../dataset/DMControlSuite/Reacher-easy/Expert_demonstration/demonstrations/optimal/seed_2753.npy\n",
      "./../../../../../dataset/DMControlSuite/Reacher-easy/Expert_demonstration/demonstrations/optimal/seed_2269.npy\n",
      "./../../../../../dataset/DMControlSuite/Reacher-easy/Expert_demonstration/demonstrations/optimal/seed_2018.npy\n",
      "./../../../../../dataset/DMControlSuite/Reacher-easy/Expert_demonstration/demonstrations/optimal/seed_2342.npy\n",
      "./../../../../../dataset/DMControlSuite/Reacher-easy/Expert_demonstration/demonstrations/optimal/seed_2081.npy\n",
      "./../../../../../dataset/DMControlSuite/Reacher-easy/Expert_demonstration/demonstrations/optimal/seed_2379.npy\n",
      "./../../../../../dataset/DMControlSuite/Reacher-easy/Expert_demonstration/demonstrations/optimal/seed_2796.npy\n"
     ]
    },
    {
     "name": "stderr",
     "output_type": "stream",
     "text": [
      "load dataset:  85%|██████████████████████████████████████████████████████████████████████████████████████████████████████████████████████████████████████▎                       | 425/500 [00:02<00:00, 170.31it/s]"
     ]
    },
    {
     "name": "stdout",
     "output_type": "stream",
     "text": [
      "./../../../../../dataset/DMControlSuite/Reacher-easy/Expert_demonstration/demonstrations/optimal/seed_2798.npy\n"
     ]
    },
    {
     "name": "stderr",
     "output_type": "stream",
     "text": [
      "                                                                                                                                                                                                                    "
     ]
    },
    {
     "name": "stdout",
     "output_type": "stream",
     "text": [
      "./../../../../../dataset/DMControlSuite/Reacher-easy/Expert_demonstration/demonstrations/optimal/seed_2821.npy\n",
      "./../../../../../dataset/DMControlSuite/Reacher-easy/Expert_demonstration/demonstrations/optimal/seed_2828.npy\n",
      "./../../../../../dataset/DMControlSuite/Reacher-easy/Expert_demonstration/demonstrations/optimal/seed_2852.npy\n",
      "./../../../../../dataset/DMControlSuite/Reacher-easy/Expert_demonstration/demonstrations/optimal/seed_2863.npy\n",
      "./../../../../../dataset/DMControlSuite/Reacher-easy/Expert_demonstration/demonstrations/optimal/seed_2875.npy\n",
      "./../../../../../dataset/DMControlSuite/Reacher-easy/Expert_demonstration/demonstrations/optimal/seed_2884.npy\n",
      "./../../../../../dataset/DMControlSuite/Reacher-easy/Expert_demonstration/demonstrations/optimal/seed_2906.npy\n",
      "./../../../../../dataset/DMControlSuite/Reacher-easy/Expert_demonstration/demonstrations/optimal/seed_2956.npy\n",
      "./../../../../../dataset/DMControlSuite/Reacher-easy/Expert_demonstration/demonstrations/optimal/seed_2959.npy\n",
      "./../../../../../dataset/DMControlSuite/Reacher-easy/Expert_demonstration/demonstrations/optimal/seed_2974.npy\n",
      "./../../../../../dataset/DMControlSuite/Reacher-easy/Expert_demonstration/demonstrations/optimal/seed_2983.npy\n",
      "./../../../../../dataset/DMControlSuite/Reacher-easy/Expert_demonstration/demonstrations/optimal/seed_2988.npy\n",
      "./../../../../../dataset/DMControlSuite/Reacher-easy/Expert_demonstration/demonstrations/optimal/seed_2058.npy\n",
      "./../../../../../dataset/DMControlSuite/Reacher-easy/Expert_demonstration/demonstrations/optimal/seed_2207.npy\n",
      "./../../../../../dataset/DMControlSuite/Reacher-easy/Expert_demonstration/demonstrations/optimal/seed_2771.npy\n",
      "./../../../../../dataset/DMControlSuite/Reacher-easy/Expert_demonstration/demonstrations/optimal/seed_2210.npy\n",
      "./../../../../../dataset/DMControlSuite/Reacher-easy/Expert_demonstration/demonstrations/optimal/seed_2126.npy\n",
      "./../../../../../dataset/DMControlSuite/Reacher-easy/Expert_demonstration/demonstrations/optimal/seed_2591.npy\n",
      "./../../../../../dataset/DMControlSuite/Reacher-easy/Expert_demonstration/demonstrations/optimal/seed_2518.npy\n",
      "./../../../../../dataset/DMControlSuite/Reacher-easy/Expert_demonstration/demonstrations/optimal/seed_2387.npy\n",
      "./../../../../../dataset/DMControlSuite/Reacher-easy/Expert_demonstration/demonstrations/optimal/seed_2807.npy\n",
      "./../../../../../dataset/DMControlSuite/Reacher-easy/Expert_demonstration/demonstrations/optimal/seed_2729.npy\n",
      "./../../../../../dataset/DMControlSuite/Reacher-easy/Expert_demonstration/demonstrations/optimal/seed_2189.npy\n",
      "./../../../../../dataset/DMControlSuite/Reacher-easy/Expert_demonstration/demonstrations/optimal/seed_2506.npy\n",
      "./../../../../../dataset/DMControlSuite/Reacher-easy/Expert_demonstration/demonstrations/optimal/seed_2398.npy\n",
      "./../../../../../dataset/DMControlSuite/Reacher-easy/Expert_demonstration/demonstrations/optimal/seed_2031.npy\n",
      "./../../../../../dataset/DMControlSuite/Reacher-easy/Expert_demonstration/demonstrations/optimal/seed_2332.npy\n",
      "./../../../../../dataset/DMControlSuite/Reacher-easy/Expert_demonstration/demonstrations/optimal/seed_2601.npy\n",
      "./../../../../../dataset/DMControlSuite/Reacher-easy/Expert_demonstration/demonstrations/optimal/seed_2063.npy\n",
      "./../../../../../dataset/DMControlSuite/Reacher-easy/Expert_demonstration/demonstrations/optimal/seed_2071.npy\n",
      "./../../../../../dataset/DMControlSuite/Reacher-easy/Expert_demonstration/demonstrations/optimal/seed_2076.npy\n",
      "./../../../../../dataset/DMControlSuite/Reacher-easy/Expert_demonstration/demonstrations/optimal/seed_2095.npy\n",
      "./../../../../../dataset/DMControlSuite/Reacher-easy/Expert_demonstration/demonstrations/optimal/seed_2781.npy\n",
      "./../../../../../dataset/DMControlSuite/Reacher-easy/Expert_demonstration/demonstrations/optimal/seed_2039.npy\n",
      "./../../../../../dataset/DMControlSuite/Reacher-easy/Expert_demonstration/demonstrations/optimal/seed_2812.npy\n",
      "./../../../../../dataset/DMControlSuite/Reacher-easy/Expert_demonstration/demonstrations/optimal/seed_2824.npy\n",
      "./../../../../../dataset/DMControlSuite/Reacher-easy/Expert_demonstration/demonstrations/optimal/seed_2577.npy\n",
      "./../../../../../dataset/DMControlSuite/Reacher-easy/Expert_demonstration/demonstrations/optimal/seed_2182.npy\n",
      "./../../../../../dataset/DMControlSuite/Reacher-easy/Expert_demonstration/demonstrations/optimal/seed_2162.npy\n"
     ]
    },
    {
     "name": "stderr",
     "output_type": "stream",
     "text": [
      "load dataset:  93%|███████████████████████████████████████████████████████████████████████████████████████████████████████████████████████████████████████████████████▎          | 466/500 [00:02<00:00, 180.79it/s]"
     ]
    },
    {
     "name": "stdout",
     "output_type": "stream",
     "text": [
      "./../../../../../dataset/DMControlSuite/Reacher-easy/Expert_demonstration/demonstrations/optimal/seed_2356.npy\n",
      "./../../../../../dataset/DMControlSuite/Reacher-easy/Expert_demonstration/demonstrations/optimal/seed_2744.npy\n",
      "./../../../../../dataset/DMControlSuite/Reacher-easy/Expert_demonstration/demonstrations/optimal/seed_2121.npy\n"
     ]
    },
    {
     "name": "stderr",
     "output_type": "stream",
     "text": [
      "load dataset: 100%|██████████████████████████████████████████████████████████████████████████████████████████████████████████████████████████████████████████████████████████████| 500/500 [00:02<00:00, 178.88it/s]\n"
     ]
    },
    {
     "name": "stdout",
     "output_type": "stream",
     "text": [
      "./../../../../../dataset/DMControlSuite/Reacher-easy/Expert_demonstration/demonstrations/optimal/seed_2072.npy\n",
      "./../../../../../dataset/DMControlSuite/Reacher-easy/Expert_demonstration/demonstrations/optimal/seed_2040.npy\n",
      "./../../../../../dataset/DMControlSuite/Reacher-easy/Expert_demonstration/demonstrations/optimal/seed_2344.npy\n",
      "./../../../../../dataset/DMControlSuite/Reacher-easy/Expert_demonstration/demonstrations/optimal/seed_2354.npy\n",
      "./../../../../../dataset/DMControlSuite/Reacher-easy/Expert_demonstration/demonstrations/optimal/seed_2114.npy\n",
      "./../../../../../dataset/DMControlSuite/Reacher-easy/Expert_demonstration/demonstrations/optimal/seed_2607.npy\n",
      "./../../../../../dataset/DMControlSuite/Reacher-easy/Expert_demonstration/demonstrations/optimal/seed_2658.npy\n",
      "./../../../../../dataset/DMControlSuite/Reacher-easy/Expert_demonstration/demonstrations/optimal/seed_2767.npy\n",
      "./../../../../../dataset/DMControlSuite/Reacher-easy/Expert_demonstration/demonstrations/optimal/seed_2772.npy\n",
      "./../../../../../dataset/DMControlSuite/Reacher-easy/Expert_demonstration/demonstrations/optimal/seed_2077.npy\n",
      "./../../../../../dataset/DMControlSuite/Reacher-easy/Expert_demonstration/demonstrations/optimal/seed_2678.npy\n",
      "./../../../../../dataset/DMControlSuite/Reacher-easy/Expert_demonstration/demonstrations/optimal/seed_2035.npy\n",
      "./../../../../../dataset/DMControlSuite/Reacher-easy/Expert_demonstration/demonstrations/optimal/seed_2712.npy\n",
      "./../../../../../dataset/DMControlSuite/Reacher-easy/Expert_demonstration/demonstrations/optimal/seed_2686.npy\n",
      "./../../../../../dataset/DMControlSuite/Reacher-easy/Expert_demonstration/demonstrations/optimal/seed_2610.npy\n",
      "./../../../../../dataset/DMControlSuite/Reacher-easy/Expert_demonstration/demonstrations/optimal/seed_2844.npy\n",
      "./../../../../../dataset/DMControlSuite/Reacher-easy/Expert_demonstration/demonstrations/optimal/seed_2845.npy\n",
      "./../../../../../dataset/DMControlSuite/Reacher-easy/Expert_demonstration/demonstrations/optimal/seed_2868.npy\n",
      "./../../../../../dataset/DMControlSuite/Reacher-easy/Expert_demonstration/demonstrations/optimal/seed_2900.npy\n",
      "./../../../../../dataset/DMControlSuite/Reacher-easy/Expert_demonstration/demonstrations/optimal/seed_2910.npy\n",
      "./../../../../../dataset/DMControlSuite/Reacher-easy/Expert_demonstration/demonstrations/optimal/seed_2911.npy\n",
      "./../../../../../dataset/DMControlSuite/Reacher-easy/Expert_demonstration/demonstrations/optimal/seed_2912.npy\n",
      "./../../../../../dataset/DMControlSuite/Reacher-easy/Expert_demonstration/demonstrations/optimal/seed_2922.npy\n",
      "./../../../../../dataset/DMControlSuite/Reacher-easy/Expert_demonstration/demonstrations/optimal/seed_2964.npy\n",
      "./../../../../../dataset/DMControlSuite/Reacher-easy/Expert_demonstration/demonstrations/optimal/seed_2977.npy\n",
      "./../../../../../dataset/DMControlSuite/Reacher-easy/Expert_demonstration/demonstrations/optimal/seed_2982.npy\n",
      "./../../../../../dataset/DMControlSuite/Reacher-easy/Expert_demonstration/demonstrations/optimal/seed_2984.npy\n",
      "./../../../../../dataset/DMControlSuite/Reacher-easy/Expert_demonstration/demonstrations/optimal/seed_2986.npy\n",
      "./../../../../../dataset/DMControlSuite/Reacher-easy/Expert_demonstration/demonstrations/optimal/seed_2991.npy\n",
      "./../../../../../dataset/DMControlSuite/Reacher-easy/Expert_demonstration/demonstrations/optimal/seed_2995.npy\n",
      "set color augment params\n",
      "calc pca from torch.Size([1250, 3, 64, 64]) data\n"
     ]
    }
   ],
   "source": [
    "from algos.base.memory import ExperienceReplay_Multimodal\n",
    "from omegaconf import ListConfig\n",
    "\n",
    "D = ExperienceReplay_Multimodal(size=cfg.train.experience_size,\n",
    "                                            observation_names=cfg.model.observation_names_enc,\n",
    "                                            observation_shapes=cfg.env.observation_shapes,\n",
    "                                            n_crop=cfg.train.n_crop,\n",
    "                                            noise_scales=cfg.train.noise_scales,\n",
    "                                            pca_scales=cfg.train.pca_scales,\n",
    "                                            dh_base=cfg.train.dh_base,\n",
    "                                            dw_base=cfg.train.dw_base,\n",
    "                                            action_name=cfg.env.action_name,\n",
    "                                            action_size=cfg.env.action_size,\n",
    "                                            bit_depth=cfg.env.bit_depth,\n",
    "                                            device=device,\n",
    "                                            taskset_name=cfg.env.taskset_name)\n",
    "cwd = \".\"\n",
    "if not validation:\n",
    "    for experience_replay in cfg.train.experience_replay:\n",
    "        load_dataset(cfg, cwd, experience_replay, D)\n",
    "else:\n",
    "    for experience_replay in cfg.train.validation_data:\n",
    "        load_dataset(cfg, cwd, experience_replay, D)"
   ]
  },
  {
   "cell_type": "code",
   "execution_count": 57,
   "id": "5fa0cdf9-8387-4cc6-8d04-0ef49bb94fa9",
   "metadata": {},
   "outputs": [],
   "source": [
    "D.noise_scales = [0.]\n",
    "D.pca_scales = [0.]\n",
    "\n",
    "observations, actions, rewards, nonterminals = D.sample(1,50)"
   ]
  },
  {
   "cell_type": "code",
   "execution_count": null,
   "id": "15a7cae2-3237-4d5e-b513-984b88aabee3",
   "metadata": {},
   "outputs": [],
   "source": []
  },
  {
   "cell_type": "code",
   "execution_count": null,
   "id": "90f7f138-fcfc-4e55-a8ad-066a573d23ac",
   "metadata": {},
   "outputs": [],
   "source": []
  },
  {
   "cell_type": "code",
   "execution_count": null,
   "id": "e7340c21-0c89-48ab-b9de-fad6f6a609fa",
   "metadata": {},
   "outputs": [],
   "source": []
  },
  {
   "cell_type": "code",
   "execution_count": 58,
   "id": "ff2cdfd9-e6f2-4d39-84e8-ee70ebc1050a",
   "metadata": {},
   "outputs": [
    {
     "name": "stdout",
     "output_type": "stream",
     "text": [
      "RSSM\n",
      "model path: results/RSSM-uniform-BatchNorm/2022-08-21/run_2/models_20000.pth\n",
      "load model_dicts from results/RSSM-uniform-BatchNorm/2022-08-21/run_2/models_20000.pth\n"
     ]
    },
    {
     "data": {
      "text/plain": [
       "RSSM(\n",
       "  (transition_model): TransitionModel(\n",
       "    (fc_embed_state_action): Linear(in_features=32, out_features=200, bias=True)\n",
       "    (rnn): GRUCell(200, 200)\n",
       "    (stochastic_state_model): StochasticStateModel(\n",
       "      (fc1): Linear(in_features=200, out_features=200, bias=True)\n",
       "      (fc2): Linear(in_features=200, out_features=60, bias=True)\n",
       "    )\n",
       "    (obs_encoder): ObsEncoder(\n",
       "      (fc1): Linear(in_features=1224, out_features=200, bias=True)\n",
       "      (fc2): Linear(in_features=200, out_features=60, bias=True)\n",
       "    )\n",
       "  )\n",
       "  (reward_model): RewardModel(\n",
       "    (fc1): Linear(in_features=230, out_features=200, bias=True)\n",
       "    (fc2): Linear(in_features=200, out_features=200, bias=True)\n",
       "    (fc3): Linear(in_features=200, out_features=1, bias=True)\n",
       "  )\n",
       "  (observation_model): ImageDecoder(\n",
       "    (fc1): Linear(in_features=230, out_features=1024, bias=True)\n",
       "    (conv): Sequential(\n",
       "      (0): ConvTranspose2d(1024, 128, kernel_size=(5, 5), stride=(2, 2), bias=False)\n",
       "      (1): BatchNorm2d(128, eps=1e-05, momentum=0.1, affine=True, track_running_stats=True)\n",
       "      (2): ReLU()\n",
       "      (3): ConvTranspose2d(128, 64, kernel_size=(5, 5), stride=(2, 2), bias=False)\n",
       "      (4): BatchNorm2d(64, eps=1e-05, momentum=0.1, affine=True, track_running_stats=True)\n",
       "      (5): ReLU()\n",
       "      (6): ConvTranspose2d(64, 32, kernel_size=(6, 6), stride=(2, 2), bias=False)\n",
       "      (7): BatchNorm2d(32, eps=1e-05, momentum=0.1, affine=True, track_running_stats=True)\n",
       "      (8): ReLU()\n",
       "      (9): ConvTranspose2d(32, 3, kernel_size=(6, 6), stride=(2, 2))\n",
       "    )\n",
       "  )\n",
       "  (encoder): ImageEncoder(\n",
       "    (conv): Sequential(\n",
       "      (0): Conv2d(3, 32, kernel_size=(4, 4), stride=(2, 2), bias=False)\n",
       "      (1): BatchNorm2d(32, eps=1e-05, momentum=0.1, affine=True, track_running_stats=True)\n",
       "      (2): ReLU()\n",
       "      (3): Conv2d(32, 64, kernel_size=(4, 4), stride=(2, 2), bias=False)\n",
       "      (4): BatchNorm2d(64, eps=1e-05, momentum=0.1, affine=True, track_running_stats=True)\n",
       "      (5): ReLU()\n",
       "      (6): Conv2d(64, 128, kernel_size=(4, 4), stride=(2, 2), bias=False)\n",
       "      (7): BatchNorm2d(128, eps=1e-05, momentum=0.1, affine=True, track_running_stats=True)\n",
       "      (8): ReLU()\n",
       "      (9): Conv2d(128, 256, kernel_size=(4, 4), stride=(2, 2), bias=False)\n",
       "      (10): BatchNorm2d(256, eps=1e-05, momentum=0.1, affine=True, track_running_stats=True)\n",
       "      (11): ReLU()\n",
       "    )\n",
       "    (fc): Identity()\n",
       "  )\n",
       ")"
      ]
     },
     "execution_count": 58,
     "metadata": {},
     "output_type": "execute_result"
    }
   ],
   "source": [
    "from algos.MRSSM.MRSSM.algo import build_RSSM\n",
    "model = build_RSSM(cfg, device)\n",
    "\n",
    "import glob\n",
    "model_paths = glob.glob(os.path.join(model_folder, '*.pth'))\n",
    "\n",
    "# load model\n",
    "model_idx = -1\n",
    "\n",
    "model_path = model_paths[model_idx]\n",
    "print(\"model path: {}\".format(model_path))\n",
    "model.load_model(model_path)\n",
    "model.eval()\n",
    "# model.tran()"
   ]
  },
  {
   "cell_type": "code",
   "execution_count": 61,
   "id": "b63cb801-4bf8-476e-b1b8-9ec54e4d730b",
   "metadata": {},
   "outputs": [
    {
     "data": {
      "text/plain": [
       "RSSM(\n",
       "  (transition_model): TransitionModel(\n",
       "    (fc_embed_state_action): Linear(in_features=32, out_features=200, bias=True)\n",
       "    (rnn): GRUCell(200, 200)\n",
       "    (stochastic_state_model): StochasticStateModel(\n",
       "      (fc1): Linear(in_features=200, out_features=200, bias=True)\n",
       "      (fc2): Linear(in_features=200, out_features=60, bias=True)\n",
       "    )\n",
       "    (obs_encoder): ObsEncoder(\n",
       "      (fc1): Linear(in_features=1224, out_features=200, bias=True)\n",
       "      (fc2): Linear(in_features=200, out_features=60, bias=True)\n",
       "    )\n",
       "  )\n",
       "  (reward_model): RewardModel(\n",
       "    (fc1): Linear(in_features=230, out_features=200, bias=True)\n",
       "    (fc2): Linear(in_features=200, out_features=200, bias=True)\n",
       "    (fc3): Linear(in_features=200, out_features=1, bias=True)\n",
       "  )\n",
       "  (observation_model): ImageDecoder(\n",
       "    (fc1): Linear(in_features=230, out_features=1024, bias=True)\n",
       "    (conv): Sequential(\n",
       "      (0): ConvTranspose2d(1024, 128, kernel_size=(5, 5), stride=(2, 2), bias=False)\n",
       "      (1): BatchNorm2d(128, eps=1e-05, momentum=0.1, affine=True, track_running_stats=True)\n",
       "      (2): ReLU()\n",
       "      (3): ConvTranspose2d(128, 64, kernel_size=(5, 5), stride=(2, 2), bias=False)\n",
       "      (4): BatchNorm2d(64, eps=1e-05, momentum=0.1, affine=True, track_running_stats=True)\n",
       "      (5): ReLU()\n",
       "      (6): ConvTranspose2d(64, 32, kernel_size=(6, 6), stride=(2, 2), bias=False)\n",
       "      (7): BatchNorm2d(32, eps=1e-05, momentum=0.1, affine=True, track_running_stats=True)\n",
       "      (8): ReLU()\n",
       "      (9): ConvTranspose2d(32, 3, kernel_size=(6, 6), stride=(2, 2))\n",
       "    )\n",
       "  )\n",
       "  (encoder): ImageEncoder(\n",
       "    (conv): Sequential(\n",
       "      (0): Conv2d(3, 32, kernel_size=(4, 4), stride=(2, 2), bias=False)\n",
       "      (1): BatchNorm2d(32, eps=1e-05, momentum=0.1, affine=True, track_running_stats=True)\n",
       "      (2): ReLU()\n",
       "      (3): Conv2d(32, 64, kernel_size=(4, 4), stride=(2, 2), bias=False)\n",
       "      (4): BatchNorm2d(64, eps=1e-05, momentum=0.1, affine=True, track_running_stats=True)\n",
       "      (5): ReLU()\n",
       "      (6): Conv2d(64, 128, kernel_size=(4, 4), stride=(2, 2), bias=False)\n",
       "      (7): BatchNorm2d(128, eps=1e-05, momentum=0.1, affine=True, track_running_stats=True)\n",
       "      (8): ReLU()\n",
       "      (9): Conv2d(128, 256, kernel_size=(4, 4), stride=(2, 2), bias=False)\n",
       "      (10): BatchNorm2d(256, eps=1e-05, momentum=0.1, affine=True, track_running_stats=True)\n",
       "      (11): ReLU()\n",
       "    )\n",
       "    (fc): Identity()\n",
       "  )\n",
       ")"
      ]
     },
     "execution_count": 61,
     "metadata": {},
     "output_type": "execute_result"
    }
   ],
   "source": [
    "model.eval()"
   ]
  },
  {
   "cell_type": "code",
   "execution_count": 45,
   "id": "ecbd98fe-a5b8-4723-81cd-a67646d42d3b",
   "metadata": {},
   "outputs": [],
   "source": [
    "from algos.base.data_augment import crop_image\n",
    "from common.env import preprocess_observation_\n",
    "\n",
    "def get_episode_data(file_name, file_name_ex, crop_idx=0, device=torch.device(\"cpu\")):\n",
    "    data, episode_length = get_data(file_name, file_name_ex, cfg.train.n_crop, cfg.train.dh_base, cfg.train.dw_base)\n",
    "    observations = dict()\n",
    "    for name in cfg.model.observation_names_enc:\n",
    "        observations[name] = to_tensor(data[name], device=device).unsqueeze(1).to(torch.float32)\n",
    "        if \"image\" in name:\n",
    "            if \"high_resolution\" in name:\n",
    "                observations[name] = crop_image(\n",
    "                    observations[name], idx=crop_idx, size=(256,256), dh_base=cfg.train.dh_base, dw_base=cfg.train.dw_base)\n",
    "            else:\n",
    "                observations[name] = crop_image(\n",
    "                    observations[name], idx=crop_idx, size=(64,64), dh_base=cfg.train.dh_base, dw_base=cfg.train.dw_base)\n",
    "            observations[name] = preprocess_observation_(observations[name], torch.tensor(cfg.env.bit_depth))\n",
    "        \n",
    "    if cfg.env.action_name == \"dummy\":\n",
    "        actions = to_tensor(np.zeros((episode_length, cfg.env.action_size), dtype=np.float32), device=device).unsqueeze(1)\n",
    "    else:\n",
    "        actions = to_tensor(data[cfg.env.action_name], device=device).unsqueeze(1)\n",
    "\n",
    "    rewards = to_tensor(data[\"reward\"], device=device).unsqueeze(1)\n",
    "    nonterminals = to_tensor(data[\"nonterminals\"], device=device).unsqueeze(1)\n",
    "    return observations, actions, rewards, nonterminals"
   ]
  },
  {
   "cell_type": "code",
   "execution_count": 46,
   "id": "9ccc03fa-616c-4bc1-a699-3811358a7bc3",
   "metadata": {},
   "outputs": [],
   "source": [
    "def np2tensor_state(state, device=torch.device(\"cpu\")):\n",
    "    _state = dict()\n",
    "    for key in state.keys():\n",
    "        _state[key] = torch.tensor(state[key], dtype=torch.float32, device=device)\n",
    "    return _state"
   ]
  },
  {
   "cell_type": "code",
   "execution_count": 47,
   "id": "d08be308-0f34-447f-b719-e24ec76f6420",
   "metadata": {},
   "outputs": [],
   "source": [
    "def get_center_idx(n_crop):\n",
    "    return int((int(np.sqrt(n_crop-1)/2)+1)**2-1)\n"
   ]
  },
  {
   "cell_type": "code",
   "execution_count": null,
   "id": "b5677da9-f6ef-4097-9555-79a0e2468d48",
   "metadata": {},
   "outputs": [],
   "source": []
  },
  {
   "cell_type": "markdown",
   "id": "e8614fa8-ebfb-4720-a130-80f73b7ad9ad",
   "metadata": {},
   "source": [
    "# Reconstruction"
   ]
  },
  {
   "cell_type": "code",
   "execution_count": 48,
   "id": "fdd0febb-8b26-41e9-843d-c2befad0d4fc",
   "metadata": {},
   "outputs": [],
   "source": [
    "D.noise_scales = None\n",
    "D.pca_scales = None\n",
    "\n",
    "\n",
    "epi_idx = 0\n",
    "observations, actions, rewards, nonterminals = D.episode_data(idx=epi_idx, crop_idx=None)"
   ]
  },
  {
   "cell_type": "code",
   "execution_count": 49,
   "id": "58908084-161e-48a4-9048-c40291ac9264",
   "metadata": {},
   "outputs": [
    {
     "name": "stderr",
     "output_type": "stream",
     "text": [
      "  0%|                                                                                                                                                                                         | 0/9 [00:00<?, ?it/s]\n",
      "  0%|                                                                                                                                                                                       | 0/125 [00:00<?, ?it/s]\u001b[A\n",
      "100%|████████████████████████████████████████████████████████████████████████████████████████████████████████████████████████████████████████████████████████████████████████████| 125/125 [00:00<00:00, 941.05it/s]\u001b[A\n"
     ]
    },
    {
     "data": {
      "image/png": "[encoded data removed]",
      "text/plain": [
       "<Figure size 576x288 with 2 Axes>"
      ]
     },
     "metadata": {
      "needs_background": "light"
     },
     "output_type": "display_data"
    },
    {
     "name": "stderr",
     "output_type": "stream",
     "text": [
      " 11%|███████████████████▋                                                                                                                                                             | 1/9 [00:10<01:21, 10.18s/it]\n",
      "  0%|                                                                                                                                                                                       | 0/125 [00:00<?, ?it/s]\u001b[A\n",
      "100%|████████████████████████████████████████████████████████████████████████████████████████████████████████████████████████████████████████████████████████████████████████████| 125/125 [00:00<00:00, 947.16it/s]\u001b[A\n"
     ]
    },
    {
     "data": {
      "image/png": "[encoded data removed]",
      "text/plain": [
       "<Figure size 576x288 with 2 Axes>"
      ]
     },
     "metadata": {
      "needs_background": "light"
     },
     "output_type": "display_data"
    },
    {
     "name": "stderr",
     "output_type": "stream",
     "text": [
      " 22%|███████████████████████████████████████▎                                                                                                                                         | 2/9 [00:20<01:10, 10.11s/it]\n",
      "  0%|                                                                                                                                                                                       | 0/125 [00:00<?, ?it/s]\u001b[A\n",
      "100%|████████████████████████████████████████████████████████████████████████████████████████████████████████████████████████████████████████████████████████████████████████████| 125/125 [00:00<00:00, 886.28it/s]\u001b[A\n"
     ]
    },
    {
     "data": {
      "image/png": "[encoded data removed]",
      "text/plain": [
       "<Figure size 576x288 with 2 Axes>"
      ]
     },
     "metadata": {
      "needs_background": "light"
     },
     "output_type": "display_data"
    },
    {
     "name": "stderr",
     "output_type": "stream",
     "text": [
      " 33%|███████████████████████████████████████████████████████████                                                                                                                      | 3/9 [00:29<00:59,  9.94s/it]\n",
      "  0%|                                                                                                                                                                                       | 0/125 [00:00<?, ?it/s]\u001b[A\n",
      "100%|████████████████████████████████████████████████████████████████████████████████████████████████████████████████████████████████████████████████████████████████████████████| 125/125 [00:00<00:00, 835.06it/s]\u001b[A\n"
     ]
    },
    {
     "data": {
      "image/png": "[encoded data removed]",
      "text/plain": [
       "<Figure size 576x288 with 2 Axes>"
      ]
     },
     "metadata": {
      "needs_background": "light"
     },
     "output_type": "display_data"
    },
    {
     "name": "stderr",
     "output_type": "stream",
     "text": [
      " 44%|██████████████████████████████████████████████████████████████████████████████▋                                                                                                  | 4/9 [00:39<00:48,  9.75s/it]\n",
      "  0%|                                                                                                                                                                                       | 0/125 [00:00<?, ?it/s]\u001b[A\n",
      "100%|████████████████████████████████████████████████████████████████████████████████████████████████████████████████████████████████████████████████████████████████████████████| 125/125 [00:00<00:00, 896.08it/s]\u001b[A\n"
     ]
    },
    {
     "data": {
      "image/png": "[encoded data removed]",
      "text/plain": [
       "<Figure size 576x288 with 2 Axes>"
      ]
     },
     "metadata": {
      "needs_background": "light"
     },
     "output_type": "display_data"
    },
    {
     "name": "stderr",
     "output_type": "stream",
     "text": [
      " 56%|██████████████████████████████████████████████████████████████████████████████████████████████████▎                                                                              | 5/9 [00:50<00:40, 10.10s/it]\n",
      "  0%|                                                                                                                                                                                       | 0/125 [00:00<?, ?it/s]\u001b[A\n",
      "100%|████████████████████████████████████████████████████████████████████████████████████████████████████████████████████████████████████████████████████████████████████████████| 125/125 [00:00<00:00, 918.03it/s]\u001b[A\n"
     ]
    },
    {
     "data": {
      "image/png": "[encoded data removed]",
      "text/plain": [
       "<Figure size 576x288 with 2 Axes>"
      ]
     },
     "metadata": {
      "needs_background": "light"
     },
     "output_type": "display_data"
    },
    {
     "name": "stderr",
     "output_type": "stream",
     "text": [
      " 67%|██████████████████████████████████████████████████████████████████████████████████████████████████████████████████████                                                           | 6/9 [01:00<00:30, 10.18s/it]\n",
      "  0%|                                                                                                                                                                                       | 0/125 [00:00<?, ?it/s]\u001b[A\n",
      "100%|████████████████████████████████████████████████████████████████████████████████████████████████████████████████████████████████████████████████████████████████████████████| 125/125 [00:00<00:00, 904.67it/s]\u001b[A\n"
     ]
    },
    {
     "data": {
      "image/png": "[encoded data removed]",
      "text/plain": [
       "<Figure size 576x288 with 2 Axes>"
      ]
     },
     "metadata": {
      "needs_background": "light"
     },
     "output_type": "display_data"
    },
    {
     "name": "stderr",
     "output_type": "stream",
     "text": [
      " 78%|█████████████████████████████████████████████████████████████████████████████████████████████████████████████████████████████████████████▋                                       | 7/9 [01:10<00:20, 10.09s/it]\n",
      "  0%|                                                                                                                                                                                       | 0/125 [00:00<?, ?it/s]\u001b[A\n",
      "100%|████████████████████████████████████████████████████████████████████████████████████████████████████████████████████████████████████████████████████████████████████████████| 125/125 [00:00<00:00, 910.20it/s]\u001b[A\n"
     ]
    },
    {
     "data": {
      "image/png": "[encoded data removed]",
      "text/plain": [
       "<Figure size 576x288 with 2 Axes>"
      ]
     },
     "metadata": {
      "needs_background": "light"
     },
     "output_type": "display_data"
    },
    {
     "name": "stderr",
     "output_type": "stream",
     "text": [
      " 89%|█████████████████████████████████████████████████████████████████████████████████████████████████████████████████████████████████████████████████████████████▎                   | 8/9 [01:20<00:09,  9.97s/it]\n",
      "  0%|                                                                                                                                                                                       | 0/125 [00:00<?, ?it/s]\u001b[A\n",
      "100%|████████████████████████████████████████████████████████████████████████████████████████████████████████████████████████████████████████████████████████████████████████████| 125/125 [00:00<00:00, 916.55it/s]\u001b[A\n"
     ]
    },
    {
     "data": {
      "image/png": "[encoded data removed]",
      "text/plain": [
       "<Figure size 576x288 with 2 Axes>"
      ]
     },
     "metadata": {
      "needs_background": "light"
     },
     "output_type": "display_data"
    },
    {
     "name": "stderr",
     "output_type": "stream",
     "text": [
      "100%|█████████████████████████████████████████████████████████████████████████████████████████████████████████████████████████████████████████████████████████████████████████████████| 9/9 [01:30<00:00, 10.01s/it]"
     ]
    },
    {
     "name": "stdout",
     "output_type": "stream",
     "text": [
      "fin\n"
     ]
    },
    {
     "name": "stderr",
     "output_type": "stream",
     "text": [
      "\n"
     ]
    }
   ],
   "source": [
    "import cv2\n",
    "from common.visualize_utils import image_postprocess\n",
    "from IPython import display\n",
    "import mpl_toolkits\n",
    "\n",
    "\n",
    "colors = [\"tab:blue\", \"tab:orange\", \"tab:green\", \"tab:red\", \"tab:purple\", \"tab:brown\", \"tab:pink\", \"tab:gray\", \"tab:olive\", \"tab:cyan\"]\n",
    "h_graph = 1\n",
    "w_graph = 2\n",
    "dt = 2\n",
    "size = (64,64)\n",
    "\n",
    "\n",
    "for epi_idx in tqdm(range(1,10)):\n",
    "    observations, actions, rewards, nonterminals = D.episode_data(idx=epi_idx, crop_idx=None)\n",
    "\n",
    "    observations_target = model._clip_obs(observations, idx_start=1)\n",
    "    state = model.estimate_state(observations_target, actions[:-1], rewards, nonterminals[:-1],det=True)\n",
    "    recon = model.observation_model(h_t=state[\"beliefs\"], s_t=state[\"posterior_means\"])\n",
    "\n",
    "    fig = plt.figure(figsize=(w_graph*4,h_graph*4))\n",
    "    ax1 = fig.add_subplot(h_graph, w_graph, 1)\n",
    "    ax2 = fig.add_subplot(h_graph, w_graph, 2)\n",
    "\n",
    "    n_frame = len(recon[\"loc\"])\n",
    "    # n_frame = 50\n",
    "    ts = np.arange(n_frame)\n",
    "\n",
    "    ax1.axis(\"off\")\n",
    "    ax2.axis(\"off\")\n",
    "\n",
    "    artists = []\n",
    "    for t in range(0, n_frame, dt):\n",
    "        im = observations[\"image\"][t, 0].detach().cpu().numpy()\n",
    "        im1 = ax1.imshow(cv2.resize(image_postprocess(im),dsize=size))\n",
    "        ax1.set_title(\"Observation\")\n",
    "\n",
    "        im = recon[\"loc\"][t, 0].detach().cpu().numpy()\n",
    "        im2 = ax2.imshow(cv2.resize(image_postprocess(im),dsize=size))\n",
    "        # im2 = ax2.imshow(im)\n",
    "        ax2.set_title(\"Reconstruction\")\n",
    "        \n",
    "        artists.append([im1,im2])\n",
    "\n",
    "    # 4. アニメーション化\n",
    "    # anim = ArtistAnimation(fig, (artists), interval=100*dt)\n",
    "    anim = ArtistAnimation(fig, tqdm(artists), interval=20*dt)\n",
    "    if validation:\n",
    "        save_file_name = \"figs/validation/reconstruction_resize_{}.mp4\".format(epi_idx)\n",
    "    else:\n",
    "        save_file_name = \"figs/train/reconstruction_resize_{}.mp4\".format(epi_idx)\n",
    "    anim.save(save_file_name, writer='ffmpeg')\n",
    "    plt.show()\n",
    "\n",
    "print(\"fin\")"
   ]
  },
  {
   "cell_type": "code",
   "execution_count": null,
   "id": "8c436117-2ddd-4713-90e9-ea26859f7e89",
   "metadata": {},
   "outputs": [],
   "source": []
  }
 ],
 "metadata": {
  "kernelspec": {
   "display_name": "Python 3 (ipykernel)",
   "language": "python",
   "name": "python3"
  },
  "language_info": {
   "codemirror_mode": {
    "name": "ipython",
    "version": 3
   },
   "file_extension": ".py",
   "mimetype": "text/x-python",
   "name": "python",
   "nbconvert_exporter": "python",
   "pygments_lexer": "ipython3",
   "version": "3.8.0"
  }
 },
 "nbformat": 4,
 "nbformat_minor": 5
}
