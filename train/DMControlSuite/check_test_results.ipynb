{
 "cells": [
  {
   "cell_type": "code",
   "execution_count": 1,
   "id": "d3e40f2c-11b0-48b9-b604-6d3a499d8ba7",
   "metadata": {},
   "outputs": [],
   "source": [
    "import os\n",
    "import numpy as np"
   ]
  },
  {
   "cell_type": "code",
   "execution_count": 2,
   "id": "b60981f1-4dbc-42f7-ba34-e5b82dc854f5",
   "metadata": {},
   "outputs": [],
   "source": [
    "import hydra\n",
    "from hydra import initialize, compose\n"
   ]
  },
  {
   "cell_type": "code",
   "execution_count": 3,
   "id": "fef710f5-a5e3-4098-9ccc-5d3b4b63164f",
   "metadata": {},
   "outputs": [],
   "source": [
    "task_name = \"Walker-run\"\n",
    "task_name = \"Ball_in_cup-catch\"\n",
    "\n",
    "method = \"IL/KL-Min-IL-prior\"\n",
    "# method = \"IL/KL-Min-IL-posterior\"\n",
    "# method = \"IL/BC_mse-RSSM\"\n",
    "method = \"IL/BC_mse-CNN\""
   ]
  },
  {
   "cell_type": "code",
   "execution_count": 4,
   "id": "8d2034a7-05f4-4da2-81f5-9cd5d718d07e",
   "metadata": {},
   "outputs": [],
   "source": [
    "task_names = [\"Ball_in_cup-catch\", \"Cheetah-run\", \"Finger-spin\", \"Reacher_easy\", \"Walker-run\"]\n",
    "methods = [\"IL/KL-Min-IL-prior\", \"IL/KL-Min-IL-posterior\", \"IL/BC_mse-RSSM\", \"IL/BC_mse-CNN\"]"
   ]
  },
  {
   "cell_type": "code",
   "execution_count": 5,
   "id": "79a9c894-5ab5-4130-9f9c-825ff5880c0f",
   "metadata": {},
   "outputs": [],
   "source": [
    "def get_result(task_name, method):\n",
    "    print(task_name, method)\n",
    "    \n",
    "    path = task_name + \"/\" + method + \"/test\"\n",
    "    if os.path.isdir(path):\n",
    "        files = os.listdir(path)\n",
    "        foders_dir = [f for f in files if os.path.isdir(os.path.join(path, f))]\n",
    "    else:\n",
    "        foders_dir = []\n",
    "\n",
    "    total_rewards = []\n",
    "    for folder_dir in foders_dir:\n",
    "        files_path = os.listdir(path+\"/\"+folder_dir)\n",
    "        if \"hydra_config.yaml\" in files_path:\n",
    "            with initialize(path+\"/\"+folder_dir):\n",
    "                cfg = compose(config_name=\"hydra_config\")\n",
    "            cfg.main.wandb = False\n",
    "\n",
    "            # log_dir = (cfg.main.log_dir).replace(\"/home/docker/sharespace/MultimodalRSSM/train\", \"../../../..\")\n",
    "            log_dir = (cfg.main.log_dir).replace(\"/home/docker/sharespace/MultimodalRSSM/train\", \"..\")\n",
    "            # print(log_dir)\n",
    "            _files_path = os.listdir(log_dir)\n",
    "            if \"results\" in _files_path:\n",
    "                data = np.load(log_dir+\"/results/total_rewards.npy\")\n",
    "                total_rewards.append(data)\n",
    "    total_rewards = np.array(total_rewards)\n",
    "    if len(total_rewards) > 0:\n",
    "        total_rewards_means = total_rewards.mean(axis=1)\n",
    "        print(total_rewards_means)\n",
    "\n",
    "        mean = total_rewards_means.mean()\n",
    "        std = total_rewards_means.std()\n",
    "        print(\"mean: {}, std: {}\".format(mean, std))\n",
    "        # print(\"mean:\", np.round(mean,1), \"std:\", np.round(std,1))\n",
    "        print(np.round(mean,1), \"$\\pm$\", np.round(std,1))\n",
    "    else:\n",
    "        print(\"no data\")"
   ]
  },
  {
   "cell_type": "code",
   "execution_count": 6,
   "id": "952bf9a8-f869-49f8-8b4c-754de9721304",
   "metadata": {},
   "outputs": [
    {
     "name": "stdout",
     "output_type": "stream",
     "text": [
      "Ball_in_cup-catch IL/KL-Min-IL-prior\n",
      "no data\n",
      "Ball_in_cup-catch IL/KL-Min-IL-posterior\n",
      "no data\n",
      "Ball_in_cup-catch IL/BC_mse-RSSM\n",
      "no data\n",
      "Ball_in_cup-catch IL/BC_mse-CNN\n",
      "no data\n",
      "Cheetah-run IL/KL-Min-IL-prior\n",
      "no data\n",
      "Cheetah-run IL/KL-Min-IL-posterior\n",
      "no data\n",
      "Cheetah-run IL/BC_mse-RSSM\n",
      "no data\n",
      "Cheetah-run IL/BC_mse-CNN\n",
      "no data\n",
      "Finger-spin IL/KL-Min-IL-prior\n",
      "no data\n",
      "Finger-spin IL/KL-Min-IL-posterior\n",
      "no data\n",
      "Finger-spin IL/BC_mse-RSSM\n",
      "no data\n",
      "Finger-spin IL/BC_mse-CNN\n",
      "no data\n",
      "Reacher_easy IL/KL-Min-IL-prior\n"
     ]
    },
    {
     "name": "stderr",
     "output_type": "stream",
     "text": [
      "/tmp/ipykernel_40894/3422625732.py:15: UserWarning: \n",
      "The version_base parameter is not specified.\n",
      "Please specify a compatability version level, or None.\n",
      "Will assume defaults for version 1.1\n",
      "  with initialize(path+\"/\"+folder_dir):\n",
      "/tmp/ipykernel_40894/3422625732.py:15: UserWarning: \n",
      "The version_base parameter is not specified.\n",
      "Please specify a compatability version level, or None.\n",
      "Will assume defaults for version 1.1\n",
      "  with initialize(path+\"/\"+folder_dir):\n"
     ]
    },
    {
     "name": "stdout",
     "output_type": "stream",
     "text": [
      "[[317.95]\n",
      " [212.74]\n",
      " [167.18]]\n",
      "mean: 232.6233367919922, std: 63.136940002441406\n",
      "232.6 $\\pm$ 63.1\n",
      "Reacher_easy IL/KL-Min-IL-posterior\n",
      "no data\n",
      "Reacher_easy IL/BC_mse-RSSM\n",
      "no data\n",
      "Reacher_easy IL/BC_mse-CNN\n",
      "no data\n",
      "Walker-run IL/KL-Min-IL-prior\n",
      "no data\n",
      "Walker-run IL/KL-Min-IL-posterior\n",
      "no data\n",
      "Walker-run IL/BC_mse-RSSM\n",
      "no data\n",
      "Walker-run IL/BC_mse-CNN\n",
      "no data\n"
     ]
    }
   ],
   "source": [
    "for task_name in task_names:\n",
    "    for method in methods:\n",
    "        get_result(task_name, method)"
   ]
  },
  {
   "cell_type": "code",
   "execution_count": null,
   "id": "b4851b09-c83e-48ea-9bdc-dd4ab4ddf363",
   "metadata": {},
   "outputs": [],
   "source": []
  },
  {
   "cell_type": "code",
   "execution_count": null,
   "id": "205ea1a6-28ed-418e-b0e7-1b561f30dc26",
   "metadata": {},
   "outputs": [],
   "source": []
  }
 ],
 "metadata": {
  "kernelspec": {
   "display_name": "Python 3 (ipykernel)",
   "language": "python",
   "name": "python3"
  },
  "language_info": {
   "codemirror_mode": {
    "name": "ipython",
    "version": 3
   },
   "file_extension": ".py",
   "mimetype": "text/x-python",
   "name": "python",
   "nbconvert_exporter": "python",
   "pygments_lexer": "ipython3",
   "version": "3.8.0"
  }
 },
 "nbformat": 4,
 "nbformat_minor": 5
}
